{
  "nbformat": 4,
  "nbformat_minor": 0,
  "metadata": {
    "colab": {
      "name": "Face Recognition_TPU_Demo.ipynb",
      "version": "0.3.2",
      "provenance": [],
      "collapsed_sections": []
    },
    "kernelspec": {
      "name": "python3",
      "display_name": "Python 3"
    },
    "accelerator": "TPU"
  },
  "cells": [
    {
      "metadata": {
        "id": "AMX09CyDVfK7",
        "colab_type": "text"
      },
      "cell_type": "markdown",
      "source": [
        "# 資料集簡介\n",
        "\n",
        "---\n",
        "\n"
      ]
    },
    {
      "metadata": {
        "id": "bySgxBYcVk-f",
        "colab_type": "text"
      },
      "cell_type": "markdown",
      "source": [
        "臉部圖片資料集：***Celebrity-Face-Recognition-Dataset***\n",
        "\n",
        "來源 :　[https://github.com/prateekmehta59/Celebrity-Face-Recognition-Dataset](https://github.com/prateekmehta59/Celebrity-Face-Recognition-Dataset)\n",
        "\n",
        "1.  80萬張臉部圖片\n",
        "2.  1100位最受歡迎的名人組成\n",
        "1.   每一位名人臉部張數約為700-800張之間\n",
        "2.   臉部資料集大小共有 172 GB\n",
        "\n",
        "\n",
        "---\n",
        "\n"
      ]
    },
    {
      "metadata": {
        "colab_type": "text",
        "id": "CjmnmCIV2iMP"
      },
      "cell_type": "markdown",
      "source": [
        "**本專案程式使用的資料集設置**\n",
        "\n",
        "\n",
        "---\n",
        "使用６位名人的臉部圖片作為資料集來源使用。\n",
        "\n",
        "分別為：\n",
        "\n",
        "1. 'Aaron Judge'\n",
        "\n",
        "2. 'Ben Stiller'\n",
        "\n",
        "3. 'Ice Cube'\n",
        "\n",
        "4. 'Adam Sandler'\n",
        "\n",
        "5. 'Emily Watson'\t\n",
        "\n",
        "6. 'Jean Reno'\n",
        "\n",
        "\n",
        "每一位名人臉部圖片數量為90張。"
      ]
    },
    {
      "metadata": {
        "id": "dUCHMkE82R7_",
        "colab_type": "text"
      },
      "cell_type": "markdown",
      "source": [
        "---\n",
        "\n",
        "**臉部預測樣本設定**\n",
        "\n",
        "\n",
        "---\n",
        "\n",
        "\n",
        "每一位名人取出 4 張未存在訓練樣本裡臉部圖片，作為後面模型預測來源依據。\n"
      ]
    },
    {
      "metadata": {
        "id": "_oJXXsE62XRN",
        "colab_type": "text"
      },
      "cell_type": "markdown",
      "source": [
        "**參考來源**\n",
        "\n",
        "---\n",
        "\"A simple classification model using Keras with Cloud TPUs\"\n",
        "\n",
        "https://github.com/tensorflow/tpu/blob/master/tools/colab/Classification_Iris_data_with_Keras.ipynb\n",
        "\n",
        "\n",
        "\"tensorflow/tpu colab\"\n",
        "\n",
        "https://github.com/tensorflow/tpu/tree/master/tools/colab"
      ]
    },
    {
      "metadata": {
        "id": "BRN2yeabVmMN",
        "colab_type": "text"
      },
      "cell_type": "markdown",
      "source": [
        "#1. 建立目錄"
      ]
    },
    {
      "metadata": {
        "id": "Psy7ET3V-frN",
        "colab_type": "code",
        "outputId": "1a0fe06f-8d6a-48c1-8fd9-73013751bc0a",
        "colab": {
          "base_uri": "https://localhost:8080/",
          "height": 34
        }
      },
      "cell_type": "code",
      "source": [
        "#顯示當前位置\n",
        "!pwd"
      ],
      "execution_count": 0,
      "outputs": [
        {
          "output_type": "stream",
          "text": [
            "/content\n"
          ],
          "name": "stdout"
        }
      ]
    },
    {
      "metadata": {
        "id": "mAQmGoeZEkKj",
        "colab_type": "code",
        "colab": {}
      },
      "cell_type": "code",
      "source": [
        "#建立Model存放目錄\n",
        "!mkdir Model"
      ],
      "execution_count": 0,
      "outputs": []
    },
    {
      "metadata": {
        "id": "xMmkbZR5FDcK",
        "colab_type": "code",
        "colab": {}
      },
      "cell_type": "code",
      "source": [
        "#建立log存放目錄\n",
        "!mkdir log"
      ],
      "execution_count": 0,
      "outputs": []
    },
    {
      "metadata": {
        "id": "UMXIsUolFROt",
        "colab_type": "code",
        "colab": {}
      },
      "cell_type": "code",
      "source": [
        "#建立plot_figure存放目錄\n",
        "!mkdir plot_figure"
      ],
      "execution_count": 0,
      "outputs": []
    },
    {
      "metadata": {
        "id": "hiuJz0mlErfS",
        "colab_type": "code",
        "outputId": "b94675ba-a1bd-4251-d5a5-80ccd8012ea2",
        "colab": {
          "base_uri": "https://localhost:8080/",
          "height": 34
        }
      },
      "cell_type": "code",
      "source": [
        "#顯示底下所有檔案清單\n",
        "!ls"
      ],
      "execution_count": 0,
      "outputs": [
        {
          "output_type": "stream",
          "text": [
            "log  Model  plot_figure  sample_data\n"
          ],
          "name": "stdout"
        }
      ]
    },
    {
      "metadata": {
        "id": "AWkKWbOs-Igu",
        "colab_type": "text"
      },
      "cell_type": "markdown",
      "source": [
        "# 2.掛載Google Drive(圖片放置在Google雲端空間)"
      ]
    },
    {
      "metadata": {
        "id": "sDiSWEvp2ijo",
        "colab_type": "code",
        "colab": {}
      },
      "cell_type": "code",
      "source": [
        "from google.colab import drive\n",
        "drive.mount('/content/gdrive')"
      ],
      "execution_count": 0,
      "outputs": []
    },
    {
      "metadata": {
        "id": "S8w0R31LCIBJ",
        "colab_type": "code",
        "outputId": "06551cc0-1dcb-4265-d3ee-dea13606b560",
        "colab": {
          "base_uri": "https://localhost:8080/",
          "height": 52
        }
      },
      "cell_type": "code",
      "source": [
        "#顯示當前位置\n",
        "!pwd\n",
        "\n",
        "#顯示底下所有檔案清單\n",
        "!ls"
      ],
      "execution_count": 0,
      "outputs": [
        {
          "output_type": "stream",
          "text": [
            "/content\n",
            "gdrive\tlog  Model  plot_figure  sample_data\n"
          ],
          "name": "stdout"
        }
      ]
    },
    {
      "metadata": {
        "id": "9Zmxn45mCbkw",
        "colab_type": "code",
        "outputId": "c4a37540-83d2-466e-c1fc-33d4e5fc6be6",
        "colab": {
          "base_uri": "https://localhost:8080/",
          "height": 52
        }
      },
      "cell_type": "code",
      "source": [
        "#顯示FaceImg底下檔案清單\n",
        "!ls '/content/gdrive/My Drive/Your file path'"
      ],
      "execution_count": 0,
      "outputs": [
        {
          "output_type": "stream",
          "text": [
            "'Aaron Judge'\t'Ben Stiller'\t'Ice Cube'\n",
            "'Adam Sandler'\t'Emily Watson'\t'Jean Reno'\n"
          ],
          "name": "stdout"
        }
      ]
    },
    {
      "metadata": {
        "id": "cEGm8nsxD7IZ",
        "colab_type": "code",
        "outputId": "06891555-c4ca-4b5b-81bf-6b8051419513",
        "colab": {
          "base_uri": "https://localhost:8080/",
          "height": 191
        }
      },
      "cell_type": "code",
      "source": [
        "#顯示FaceImg底下'Adam Sandler'檔案清單\n",
        "!ls '/content/gdrive/My Drive/Your file path'"
      ],
      "execution_count": 0,
      "outputs": [
        {
          "output_type": "stream",
          "text": [
            "10.jpg\t 181.jpg  238.jpg  39.jpg  50.jpg   641.jpg  67.jpg   742.jpg  77.jpg\n",
            "11.jpg\t 183.jpg  246.jpg  3.jpg   52.jpg   642.jpg  68.jpg   744.jpg  78.jpg\n",
            "12.jpg\t 189.jpg  24.jpg   40.jpg  56.jpg   648.jpg  695.jpg  74.jpg   79.jpg\n",
            "13.jpg\t 18.jpg   25.jpg   42.jpg  572.jpg  649.jpg  6.jpg    752.jpg  80.jpg\n",
            "14.jpg\t 1.jpg\t  275.jpg  43.jpg  5.jpg    64.jpg   701.jpg  754.jpg  81.jpg\n",
            "16.jpg\t 21.jpg   29.jpg   44.jpg  616.jpg  652.jpg  702.jpg  755.jpg  82.jpg\n",
            "175.jpg  223.jpg  2.jpg    45.jpg  617.jpg  65.jpg   708.jpg  756.jpg  83.jpg\n",
            "176.jpg  228.jpg  32.jpg   46.jpg  636.jpg  666.jpg  70.jpg   763.jpg  89.jpg\n",
            "178.jpg  22.jpg   33.jpg   47.jpg  638.jpg  673.jpg  719.jpg  768.jpg  8.jpg\n",
            "17.jpg\t 237.jpg  36.jpg   49.jpg  639.jpg  674.jpg  720.jpg  769.jpg  92.jpg\n"
          ],
          "name": "stdout"
        }
      ]
    },
    {
      "metadata": {
        "id": "ft5b2ciZF1my",
        "colab_type": "code",
        "outputId": "e3e7e230-2e0b-491e-8dca-dfa71bb33901",
        "colab": {
          "base_uri": "https://localhost:8080/",
          "height": 52
        }
      },
      "cell_type": "code",
      "source": [
        "#顯示PredictFaceimg底下檔案清單\n",
        "!ls '/content/gdrive/My Drive/Your file path'"
      ],
      "execution_count": 0,
      "outputs": [
        {
          "output_type": "stream",
          "text": [
            "'Aaron Judge'\t'Ben Stiller'\t'Ice Cube'\n",
            "'Adam Sandler'\t'Emily Watson'\t'Jean Reno'\n"
          ],
          "name": "stdout"
        }
      ]
    },
    {
      "metadata": {
        "id": "6mykQQykF9NE",
        "colab_type": "code",
        "outputId": "c233d6ec-6f3e-4717-ecc1-618e9e7bfed6",
        "colab": {
          "base_uri": "https://localhost:8080/",
          "height": 52
        }
      },
      "cell_type": "code",
      "source": [
        "#顯示PredictFaceimg底下'Adam Sandler'檔案清單\n",
        "!ls '/content/gdrive/My Drive/Your file path'"
      ],
      "execution_count": 0,
      "outputs": [
        {
          "output_type": "stream",
          "text": [
            "'Adam Sandler_01.jpg'  'Adam Sandler_03.jpg'\n",
            "'Adam Sandler_02.jpg'  'Adam Sandler_04.jpg'\n"
          ],
          "name": "stdout"
        }
      ]
    },
    {
      "metadata": {
        "id": "r2P87hS4YMpq",
        "colab_type": "code",
        "outputId": "c2653999-0f41-482f-fad4-349ad0255b09",
        "colab": {
          "base_uri": "https://localhost:8080/",
          "height": 34
        }
      },
      "cell_type": "code",
      "source": [
        "#顯示Facelabeldb底下檔案清單\n",
        "!ls '/content/gdrive/My Drive/Your file path'"
      ],
      "execution_count": 0,
      "outputs": [
        {
          "output_type": "stream",
          "text": [
            "facelabel.db  facelabel.db3\n"
          ],
          "name": "stdout"
        }
      ]
    },
    {
      "metadata": {
        "id": "esKqQL5dEHQq",
        "colab_type": "text"
      },
      "cell_type": "markdown",
      "source": [
        "#3. Import Python Package"
      ]
    },
    {
      "metadata": {
        "id": "7pVPm0Dmhr-k",
        "colab_type": "code",
        "outputId": "bea80fbb-2746-4920-96dc-6b4e90f7e121",
        "colab": {
          "base_uri": "https://localhost:8080/",
          "height": 86
        }
      },
      "cell_type": "code",
      "source": [
        "!pip install sklearn"
      ],
      "execution_count": 0,
      "outputs": [
        {
          "output_type": "stream",
          "text": [
            "Requirement already satisfied: sklearn in /usr/local/lib/python3.6/dist-packages (0.0)\n",
            "Requirement already satisfied: scikit-learn in /usr/local/lib/python3.6/dist-packages (from sklearn) (0.20.1)\n",
            "Requirement already satisfied: scipy>=0.13.3 in /usr/local/lib/python3.6/dist-packages (from scikit-learn->sklearn) (1.1.0)\n",
            "Requirement already satisfied: numpy>=1.8.2 in /usr/local/lib/python3.6/dist-packages (from scikit-learn->sklearn) (1.14.6)\n"
          ],
          "name": "stdout"
        }
      ]
    },
    {
      "metadata": {
        "id": "pUvnwb8QEFmT",
        "colab_type": "code",
        "colab": {}
      },
      "cell_type": "code",
      "source": [
        "from keras.preprocessing.image import ImageDataGenerator\n",
        "from tensorflow.python.client import device_lib\n",
        "from keras import backend as K\n",
        "from keras.models import Model\n",
        "# https://stackoverflow.com/questions/30667525/importerror-no-module-named-sklearn-cross-validation\n",
        "from sklearn.model_selection import train_test_split\n",
        "from keras.utils import np_utils\n",
        "from keras.models import Sequential , Model\n",
        "from keras.layers import Dense, Dropout, Activation, Flatten\n",
        "from keras.layers import Conv2D, MaxPooling2D\n",
        "from keras.optimizers import SGD, RMSprop, Adam, Adagrad, Adadelta\n",
        "from keras.models import load_model\n",
        "from keras.preprocessing import image\n",
        "from keras.applications.imagenet_utils import decode_predictions \n",
        "\n",
        "import matplotlib.pyplot as plt\n",
        "import random\n",
        "import keras\n",
        "import keras.backend.tensorflow_backend as KTF\n",
        "import tensorflow as tf\n",
        "import keras\n",
        "import time\n",
        "import os\n",
        "import numpy as np\n",
        "import cv2\n",
        "import sqlite3"
      ],
      "execution_count": 0,
      "outputs": []
    },
    {
      "metadata": {
        "id": "Dbd4BL-SG7FL",
        "colab_type": "text"
      },
      "cell_type": "markdown",
      "source": [
        "# 4.參數設置"
      ]
    },
    {
      "metadata": {
        "id": "lIt9j6m6G6IE",
        "colab_type": "code",
        "colab": {}
      },
      "cell_type": "code",
      "source": [
        "gpu_no = \"0\" # GPU_index\n",
        "# setting use GPU run\n",
        "os.environ[\"CUDA_VISIBLE_DEVICES\"] = gpu_no\n",
        "#use_GPU = ['/gpu:0']\n",
        "#use_GPU = ['/gpu:0','/gpu:1']\n",
        "n_GPU = '/gpu:0'\n",
        "I_CPU = '/cpu:0'\n",
        "\n",
        "## GPU memory limit\n",
        "#config = tf.ConfigProto(device_count={'gpu':0})\n",
        "##config.gpu_options.per_process_gpu_memory_fraction = 0.3\n",
        "#config.gpu_options.allow_growth = True\n",
        "#session = tf.Session(config=config)\n",
        "#KTF.set_session(session)"
      ],
      "execution_count": 0,
      "outputs": []
    },
    {
      "metadata": {
        "id": "MCr0aUbtHTcN",
        "colab_type": "code",
        "colab": {}
      },
      "cell_type": "code",
      "source": [
        "# ----------------------------------- Face Image Path ----------------------------------- \n",
        "\n",
        "# check current project location path\n",
        "currentPath = os.getcwd()\n",
        "print(\"Current Path: \" + currentPath)\n",
        "\n",
        "# select face data class\n",
        "face_class = 6\n",
        "\n",
        "# Figure storage directory\n",
        "faceimg_dir = currentPath + '/gdrive/My Drive/Your file path'\n",
        "\n",
        "# Predict of face img storage path\n",
        "predict_faceimg_path = currentPath + '/gdrive/My Drive/Your file path'\n",
        "\n",
        "# figure storage directory\n",
        "figure_dir = currentPath + '/plot_figure/'\n",
        "\n",
        "# figure classname\n",
        "figure_classname = 'face_'+str(face_class)\n",
        "\n",
        "# Save model and weight name\n",
        "h5_model_name = currentPath + \"/Model/FaceID_C\" + str(face_class) + \"_model.h5\"\n",
        "h5_model_weight_name = currentPath + \"/Model/FaceID_C\"+ str(face_class) + \"_weight.h5\"\n",
        "\n",
        "# Face image file type\n",
        "faceimg_type = \".jpg\"\n",
        "\n",
        "# Image resize\n",
        "img_resize = 96\n",
        "\n",
        "# Time format settings\n",
        "time_format = '%Y-%m-%d %H:%M:%S'\n",
        "\n",
        "print(\"faceimg_dir: {}\".format(faceimg_dir))\n",
        "print(\"predict_faceimg_path: {}\".format(predict_faceimg_path))\n",
        "print(\"h5_model_name: {}\".format(h5_model_name))\n",
        "print(\"h5_model_weight_name: {}\".format(h5_model_weight_name))"
      ],
      "execution_count": 0,
      "outputs": []
    },
    {
      "metadata": {
        "id": "QyOhGszMMDgv",
        "colab_type": "code",
        "colab": {}
      },
      "cell_type": "code",
      "source": [
        "# ----------------------------------- Variable  declard ----------------------------------- \n",
        "\n",
        "# Image dataset array declard\n",
        "images = []\n",
        "labels = []\n",
        "label_class = []\n",
        "\n",
        "# Train dataset\n",
        "train_images = None # x\n",
        "train_labels = None # y\n",
        "\n",
        "# Valid dataset\n",
        "valid_images = None # x\n",
        "valid_labels = None # y\n",
        "\n",
        "# Test dataset\n",
        "test_images = None # x\n",
        "test_labels = None # y\n",
        "\n",
        "# Model declard\n",
        "net_model = Model()\n",
        "history = None\n",
        "\n",
        "datagen = ImageDataGenerator()\n",
        "\n",
        "# Train history declard\n",
        "history = None\n",
        "\n",
        "# SQL arguments settings\n",
        "SQLite_name = \"facelabel.db3\"\n",
        "dbconn = sqlite3.connect(currentPath+'/gdrive/My Drive/Your file path'+SQLite_name)\n",
        "curs = dbconn.cursor()\n",
        "db_TableName = 'facelabel'\n",
        "column_faceindex = 'faceindex'\n",
        "column_facename = 'facename'"
      ],
      "execution_count": 0,
      "outputs": []
    },
    {
      "metadata": {
        "id": "5Bzhgal3POQx",
        "colab_type": "text"
      },
      "cell_type": "markdown",
      "source": [
        "#5. 方法宣告"
      ]
    },
    {
      "metadata": {
        "id": "dYlRhjX9-PDF",
        "colab_type": "text"
      },
      "cell_type": "markdown",
      "source": [
        "**5.1讀取圖片**"
      ]
    },
    {
      "metadata": {
        "id": "ZdWd_IpIPRK5",
        "colab_type": "code",
        "colab": {}
      },
      "cell_type": "code",
      "source": [
        "def load_faceimg(faceimgpath,imgtype,img_resize):\n",
        "    \n",
        "    load_index = 0\n",
        "    images = [] # face image\n",
        "    labels = [] # face label\n",
        "    label_class = []\n",
        "\n",
        "    print(\"Start Scanning faceimg folder image class.\\n\")\n",
        "\n",
        "    # run SQL DB Table clearn\n",
        "    SQL_delete_syntax = '''\n",
        "    DELETE FROM {}\n",
        "    '''.format(db_TableName)\n",
        "    \n",
        "    SQL_run = curs.execute(SQL_delete_syntax)\n",
        "\n",
        "    if SQL_run:\n",
        "\n",
        "        dbconn.commit()\n",
        "\n",
        "    else:\n",
        "\n",
        "        print ('Run SQL_delete_syntax Faild.')\n",
        "\n",
        "    # scan faceimg folder\n",
        "    for dir_item in os.listdir(faceimgpath):\n",
        "\n",
        "        #print(\"No.\"+str(load_index)+\" [ \"+dir_item+\" ]\")\n",
        "        print(\"\\nNo.{} [ {} ]\".format(str(load_index),dir_item))\n",
        "        \n",
        "        load_index+=1\n",
        "        label_class.append(dir_item)\n",
        "\n",
        "        # join root directory and class folder name\n",
        "        full_path = os.path.abspath(os.path.join(faceimgpath) + dir_item)\n",
        "        print(\"Full Detail Path = {}\".format(full_path))\n",
        "\n",
        "        class_name = dir_item\n",
        "#         print(\"Class: {}\".format(class_name))\n",
        "        num_img = 0\n",
        "\n",
        "        # read image\n",
        "        for dir_item in os.listdir(full_path):\n",
        "\n",
        "#             print(dir_item)\n",
        "            num_img+=1\n",
        "            img_path = \"\"\n",
        "\n",
        "            if dir_item.endswith(imgtype)and os.path.exists(str(full_path)):\n",
        "\n",
        "                img_path = os.path.abspath(os.path.join(full_path) + \"/\" + dir_item)\n",
        "                #print(img_path)\n",
        "                image = cv2.imread(img_path)                \n",
        "                image = cv2.resize(image,(img_resize,img_resize))\n",
        "\n",
        "                # get image size\n",
        "                img_width,img_height,channels = image.shape\n",
        "                \n",
        "                #if num_img < 10: # 1~9\n",
        "\n",
        "                #    dir_item = str(dir_item).rstrip(\"_000\" + str(num_img) + \".jpg\").rstrip()\n",
        "\n",
        "                #elif num_img >= 10 and num_img < 100: # 10~99\n",
        "\n",
        "                #    dir_item = str(dir_item).rstrip(\"_00\" + str(num_img) + \".jpg\").rstrip()\n",
        "\n",
        "                #elif num_img >= 100 and num_img < 1000: # 100~999\n",
        "\n",
        "                #    dir_item = str(dir_item).rstrip(\"_0\" + str(num_img) + \".jpg\").rstrip()\n",
        "\n",
        "                #else: # 10~99\n",
        "\n",
        "                #    dir_item = str(dir_item).rstrip(\"_\" + str(num_img) + \".jpg\").rstrip()\n",
        "\n",
        "                # add image to array\n",
        "                images.append(image)\n",
        "                labels.append(class_name)\n",
        "\n",
        "\n",
        "        print(\"Image Quantity: {}\".format(num_img))\n",
        "        \n",
        "    return  images,labels,img_width,img_height,channels,load_index,label_class"
      ],
      "execution_count": 0,
      "outputs": []
    },
    {
      "metadata": {
        "id": "OHCd1Htu-YWe",
        "colab_type": "text"
      },
      "cell_type": "markdown",
      "source": [
        "**5.2類別編成索引號碼**"
      ]
    },
    {
      "metadata": {
        "id": "5zNTRNb7P-Qa",
        "colab_type": "code",
        "colab": {}
      },
      "cell_type": "code",
      "source": [
        "def char_to_code(labels,label_class,n_class):\n",
        "\n",
        "    for index,classname in label_class:\n",
        "\n",
        "        labels = np.array([str(index) if label == classname else label for label in labels])   \n",
        "        \n",
        "        print(classname)\n",
        "         \n",
        "        # run SQL_Insert_syntax\n",
        "        SQL_Insert_syntax = '''\n",
        "        INSERT INTO {}('{}','{}')\n",
        "        VALUES('{}','{}')\n",
        "        '''.format(db_TableName,column_faceindex,column_facename,str(index),str(classname))\n",
        "        \n",
        "        print(\"SQL_Insert_syntax: {}\".format(SQL_Insert_syntax))\n",
        "        \n",
        "        SQL_run = curs.execute(SQL_Insert_syntax)\n",
        "\n",
        "        if SQL_run:\n",
        "            dbconn.commit()\n",
        "        else:\n",
        "            print ('Run SQL_Insert_syntax Faild.')\n",
        "\n",
        "    return labels"
      ],
      "execution_count": 0,
      "outputs": []
    },
    {
      "metadata": {
        "id": "lcxjBDHl-gYN",
        "colab_type": "text"
      },
      "cell_type": "markdown",
      "source": [
        "**5.3資料集處理**"
      ]
    },
    {
      "metadata": {
        "id": "YK_irvDDjSAX",
        "colab_type": "code",
        "colab": {}
      },
      "cell_type": "code",
      "source": [
        "def process_data(images,labels,img_rows,img_cols ,img_channels,n_class):\n",
        "  \n",
        "    # train dataset\n",
        "    train_images = None # x\n",
        "    train_labels = None # y\n",
        "\n",
        "    #valid dataset\n",
        "    valid_images = None # x\n",
        "    valid_labels = None # y\n",
        "\n",
        "    #test dataset\n",
        "    test_images = None # x\n",
        "    test_labels = None # y\n",
        "\n",
        "    # split dataset 'train'、'valid'、'test'\n",
        "    train_images,valid_images,train_labels,valid_labels = train_test_split(images,labels,test_size = 0.2,random_state = random.randint(0,n_class))\n",
        "    _,test_images,_,test_labels = train_test_split(train_images,train_labels,test_size = 0.3,random_state = random.randint(0,n_class))\n",
        "    \n",
        "    # https://faroit.github.io/keras-docs/1.2.2/backend/\n",
        "\n",
        "    if K.image_dim_ordering() == 'th': # img_channels,img_rows,img_cols\n",
        "\n",
        "        train_images = train_images.reshape(train_images.shape[0],img_channels,img_rows,img_cols)\n",
        "        valid_images = valid_images.reshape(valid_images.shape[0],img_channels,img_rows,img_cols)\n",
        "        test_images = test_images.reshape(test_images.shape[0],img_channels,img_rows,img_cols)\n",
        "\n",
        "    else: # img_rows,img_cols,img_channels\n",
        "\n",
        "        train_images = train_images.reshape(train_images.shape[0],img_rows,img_cols,img_channels)\n",
        "        valid_images = valid_images.reshape(valid_images.shape[0],img_rows,img_cols,img_channels)\n",
        "        test_images = test_images.reshape(test_images.shape[0],img_rows,img_cols,img_channels)\n",
        "    \n",
        "    # normalize data\n",
        "    train_images,valid_images,test_images = normalize_data(train_images,valid_images,test_images)\n",
        "\n",
        "    # show \"train_images\"、\"valid_imagess\"、\"test_images\" length\n",
        "    print(\"\\n\\n>>>>>>>>>>>>>>>>>>>>>>>>>>>>>>>>\")\n",
        "    print(\"Train Sample: {}\".format(train_images.shape[0]))\n",
        "    print(\"Valid Sample: {}\".format(valid_images.shape[0]))\n",
        "    print(\"Test Sample: {}\".format(test_images.shape[0]))\n",
        "    \n",
        "    #print(\"{}\\n\".format(train_images))\n",
        "    #print(\"{}\\n\".format(valid_images))\n",
        "    #print(\"{}\\n\".format(test_images))\n",
        "    \n",
        "    #如果你要用TPU執行訓練，不能用One-Hot編碼，會出現錯誤訊息\n",
        "    #https://blog.csdn.net/roger_royer/article/details/79968523\n",
        "    # One Hot Code process \"train_labels\",\"valid_labels\",\"test_labels\"\n",
        "#     train_labels,valid_labels,test_labels = one_hot_process(train_labels,valid_labels,test_labels,n_class)\n",
        "\n",
        "    print(\"Train Labels Sample: {}\".format(train_labels.shape[0]))\n",
        "    print(\"Valid Labels Sample: {}\".format(valid_labels.shape[0]))\n",
        "    print(\"Test Labels Sample: {}\".format(test_labels.shape[0]))\n",
        "    \n",
        "    #print(\"{}\\n\".format(train_labels))\n",
        "    #print(\"{}\\n\".format(valid_labels))\n",
        "    #print(\"{}\\n\".format(test_labels))\n",
        "    print(\">>>>>>>>>>>>>>>>>>>>>>>>>>>>>>>>\")\n",
        "\n",
        "    return train_images,valid_images,test_images,train_labels,valid_labels,test_labels\n",
        "  \n",
        "\n",
        "  \n",
        "#One Hot Code for label vector\n",
        "def one_hot_process(train_labels,valid_labels,test_labels,n_class):\n",
        "\n",
        "    train_labels = np_utils.to_categorical(train_labels,n_class)\n",
        "    valid_labels = np_utils.to_categorical(valid_labels,n_class)\n",
        "    test_labels = np_utils.to_categorical(test_labels,n_class)\n",
        "\n",
        "    return train_labels,valid_labels,test_labels\n",
        "\n",
        "  \n",
        "\n",
        "# Normalize data 資料正規化\n",
        "def normalize_data(train_images,valid_images,test_images):\n",
        "\n",
        "    train_images = train_images.astype('float32')\n",
        "    valid_images = valid_images.astype('float32')\n",
        "    test_images = test_images.astype('float32')\n",
        "\n",
        "    train_images /= 255\n",
        "    valid_images /= 255\n",
        "    test_images /= 255\n",
        "\n",
        "    return train_images,valid_images,test_images"
      ],
      "execution_count": 0,
      "outputs": []
    },
    {
      "metadata": {
        "id": "OXZ4h3JG_K8U",
        "colab_type": "text"
      },
      "cell_type": "markdown",
      "source": [
        "**5.4產生訓練模型後Accuracy與Loss變化圖**"
      ]
    },
    {
      "metadata": {
        "id": "ut1YT14E6Nh4",
        "colab_type": "code",
        "colab": {}
      },
      "cell_type": "code",
      "source": [
        "'''\n",
        "http://noahsnail.com/2017/04/29/2017-4-29-matplotlib%E7%9A%84%E5%9F%BA%E6%9C%AC%E7%94%A8%E6%B3%95(%E5%9B%9B)%E2%80%94%E2%80%94%E8%AE%BE%E7%BD%AElegend%E5%9B%BE%E4%BE%8B/\n",
        "https://blog.csdn.net/Quincuntial/article/details/70947363\n",
        "https://www.jianshu.com/p/91eb0d616adb\n",
        "'''\n",
        "       \n",
        "\n",
        "def plot_figure(history,dir,figure_classname):\n",
        "\n",
        "    __plot_acc(history,dir,figure_classname)\n",
        "\n",
        "    #plt.subplot(1,2,1)\n",
        "\n",
        "    __plot_loss(history,dir,figure_classname)\n",
        "\n",
        "    #plt.show()\n",
        "\n",
        "\n",
        "def __plot_acc(hist,dir,figure_classname):\n",
        "        \n",
        "    acc = hist.history['sparse_categorical_accuracy']\n",
        "    val_acc = hist.history['val_sparse_categorical_accuracy']\n",
        "        \n",
        "    # img size\n",
        "    plt.figure(figsize=(8,8))\n",
        "    plt.plot(acc)\n",
        "    plt.plot(val_acc)\n",
        "    plt.title(figure_classname+'_Model Accuracy')\n",
        "    plt.ylabel('Accuracy')\n",
        "    plt.xlabel('Epochs')\n",
        "    plt.legend(['train_acc', 'valid_acc'], loc='best')\n",
        "    plt.tight_layout()\n",
        "    plt.savefig(dir+figure_classname+'_Accuracy.png')\n",
        "    #plt.show()\n",
        "\n",
        "def __plot_loss(hist,dir,figure_classname):\n",
        "\n",
        "    loss = hist.history['loss']\n",
        "    val_loss = hist.history['val_loss']\n",
        "\n",
        "    # img size\n",
        "    plt.figure(figsize=(8,8))        \n",
        "    plt.plot(loss)\n",
        "    plt.plot(val_loss)\n",
        "    plt.title(figure_classname+'_Model Loss')\n",
        "    plt.ylabel('Loss')\n",
        "    plt.xlabel('Epochs')\n",
        "    plt.legend(['train_loss', 'valid_loss'], loc='best')\n",
        "    plt.tight_layout()\n",
        "    plt.savefig(dir+figure_classname+'_Loss.png')\n",
        "    #plt.show()"
      ],
      "execution_count": 0,
      "outputs": []
    },
    {
      "metadata": {
        "id": "6J6UAuFgO9zF",
        "colab_type": "text"
      },
      "cell_type": "markdown",
      "source": [
        "#6. Image前置處理"
      ]
    },
    {
      "metadata": {
        "id": "dz46vVMP2rj4",
        "colab_type": "text"
      },
      "cell_type": "markdown",
      "source": [
        "**6.1讀取圖像**"
      ]
    },
    {
      "metadata": {
        "id": "oc-nbbUtPHmT",
        "colab_type": "code",
        "outputId": "87ecfa37-06b2-4c9c-a91a-dd5b20763e38",
        "colab": {
          "base_uri": "https://localhost:8080/",
          "height": 642
        }
      },
      "cell_type": "code",
      "source": [
        "start_time = time.time()\n",
        "    \n",
        "# Get img dataset\n",
        "images,labels,img_width,img_height,channels,n_class,label_class = load_faceimg(faceimg_dir,faceimg_type,img_resize)\n",
        "    \n",
        "print(\"\\n\\n>>>>>>>>>>>>>>>>>>>>>>>>>>>>>>>>\\n\")\n",
        "\n",
        "# Show number of class\n",
        "print(\"Number Of Class: {} \\n {} \\n\".format(n_class,label_class))\n",
        "\n",
        "# Show img dataset length\n",
        "print(\"Images Length: {} \\nLabels Length: {}\".format(len(images),len(labels)))\n",
        "\n",
        "# Show img size\n",
        "print(\"Image Size: {}x{}x{}\".format(img_width,img_height,channels))\n",
        "    \n",
        "images = np.array(images)    \n",
        "labels = np.array(labels)"
      ],
      "execution_count": 0,
      "outputs": [
        {
          "output_type": "stream",
          "text": [
            "Start Scanning faceimg folder image class.\n",
            "\n",
            "\n",
            "No.0 [ Jean Reno ]\n",
            "Full Detail Path = /content/gdrive/My Drive/106資管碩士一甲/雲端運算系統/FaceImg/Jean Reno\n",
            "Image Quantity: 90\n",
            "\n",
            "No.1 [ Emily Watson ]\n",
            "Full Detail Path = /content/gdrive/My Drive/106資管碩士一甲/雲端運算系統/FaceImg/Emily Watson\n",
            "Image Quantity: 90\n",
            "\n",
            "No.2 [ Ben Stiller ]\n",
            "Full Detail Path = /content/gdrive/My Drive/106資管碩士一甲/雲端運算系統/FaceImg/Ben Stiller\n",
            "Image Quantity: 90\n",
            "\n",
            "No.3 [ Adam Sandler ]\n",
            "Full Detail Path = /content/gdrive/My Drive/106資管碩士一甲/雲端運算系統/FaceImg/Adam Sandler\n",
            "Image Quantity: 90\n",
            "\n",
            "No.4 [ Aaron Judge ]\n",
            "Full Detail Path = /content/gdrive/My Drive/106資管碩士一甲/雲端運算系統/FaceImg/Aaron Judge\n",
            "Image Quantity: 90\n",
            "\n",
            "No.5 [ Ice Cube ]\n",
            "Full Detail Path = /content/gdrive/My Drive/106資管碩士一甲/雲端運算系統/FaceImg/Ice Cube\n",
            "Image Quantity: 90\n",
            "\n",
            "\n",
            ">>>>>>>>>>>>>>>>>>>>>>>>>>>>>>>>\n",
            "\n",
            "Number Of Class: 6 \n",
            " ['Jean Reno', 'Emily Watson', 'Ben Stiller', 'Adam Sandler', 'Aaron Judge', 'Ice Cube'] \n",
            "\n",
            "Images Length: 540 \n",
            "Labels Length: 540\n",
            "Image Size: 96x96x3\n"
          ],
          "name": "stdout"
        }
      ]
    },
    {
      "metadata": {
        "id": "fSkXv6uo3Fjw",
        "colab_type": "text"
      },
      "cell_type": "markdown",
      "source": [
        "**6.2圖像資料集處理(混淆矩陣、分類索引編碼)**"
      ]
    },
    {
      "metadata": {
        "id": "6hGpZEIkWuTH",
        "colab_type": "code",
        "outputId": "f3247efd-66a3-4586-d920-06f44ffd1398",
        "colab": {
          "base_uri": "https://localhost:8080/",
          "height": 590
        }
      },
      "cell_type": "code",
      "source": [
        "# shuffle data\n",
        "perm_array = np.arange(len(images))\n",
        "np.random.shuffle(perm_array)\n",
        "images = images[perm_array]\n",
        "labels = labels[perm_array]\n",
        "\n",
        "print(images.shape)\n",
        "print(labels.shape)\n",
        "# print(labels)\n",
        "\n",
        "label_class = enumerate(label_class)\n",
        "\n",
        "# for index, classname in label_class:\n",
        "#   print(classname)\n",
        "\n",
        "# char convert to int code\n",
        "labels = char_to_code(labels,label_class,n_class)\n",
        "\n",
        "# print(labels)\n",
        "print(\">>>>>>>>>>>>>>>>>>>>>>>>>>>>>>>>\")"
      ],
      "execution_count": 0,
      "outputs": [
        {
          "output_type": "stream",
          "text": [
            "(540, 96, 96, 3)\n",
            "(540,)\n",
            "Jean Reno\n",
            "SQL_Insert_syntax: \n",
            "        INSERT INTO facelabel('faceindex','facename')\n",
            "        VALUES('0','Jean Reno')\n",
            "        \n",
            "Emily Watson\n",
            "SQL_Insert_syntax: \n",
            "        INSERT INTO facelabel('faceindex','facename')\n",
            "        VALUES('1','Emily Watson')\n",
            "        \n",
            "Ben Stiller\n",
            "SQL_Insert_syntax: \n",
            "        INSERT INTO facelabel('faceindex','facename')\n",
            "        VALUES('2','Ben Stiller')\n",
            "        \n",
            "Adam Sandler\n",
            "SQL_Insert_syntax: \n",
            "        INSERT INTO facelabel('faceindex','facename')\n",
            "        VALUES('3','Adam Sandler')\n",
            "        \n",
            "Aaron Judge\n",
            "SQL_Insert_syntax: \n",
            "        INSERT INTO facelabel('faceindex','facename')\n",
            "        VALUES('4','Aaron Judge')\n",
            "        \n",
            "Ice Cube\n",
            "SQL_Insert_syntax: \n",
            "        INSERT INTO facelabel('faceindex','facename')\n",
            "        VALUES('5','Ice Cube')\n",
            "        \n",
            ">>>>>>>>>>>>>>>>>>>>>>>>>>>>>>>>\n"
          ],
          "name": "stdout"
        }
      ]
    },
    {
      "metadata": {
        "id": "2Ka3jTka2U5D",
        "colab_type": "text"
      },
      "cell_type": "markdown",
      "source": [
        "**6.3分割圖像資料集**"
      ]
    },
    {
      "metadata": {
        "id": "r1x-01JMXIOj",
        "colab_type": "code",
        "outputId": "2e25cd73-469e-4204-c1bd-41352e395c8e",
        "colab": {
          "base_uri": "https://localhost:8080/",
          "height": 191
        }
      },
      "cell_type": "code",
      "source": [
        "# dataset process generate\n",
        "with tf.device(I_CPU):\n",
        "    train_images,valid_images,test_images,train_labels,valid_labels,test_labels = process_data(images,labels,img_height,img_width,channels,n_class)\n",
        "    #print(train_images.shape[0])"
      ],
      "execution_count": 0,
      "outputs": [
        {
          "output_type": "stream",
          "text": [
            "\n",
            "\n",
            ">>>>>>>>>>>>>>>>>>>>>>>>>>>>>>>>\n",
            "Train Sample: 432\n",
            "Valid Sample: 108\n",
            "Test Sample: 130\n",
            "Train Labels Sample: 432\n",
            "Valid Labels Sample: 108\n",
            "Test Labels Sample: 130\n",
            ">>>>>>>>>>>>>>>>>>>>>>>>>>>>>>>>\n"
          ],
          "name": "stdout"
        }
      ]
    },
    {
      "metadata": {
        "id": "7_ZgfqBdnTjz",
        "colab_type": "text"
      },
      "cell_type": "markdown",
      "source": [
        "#7. 建立神經網路模型"
      ]
    },
    {
      "metadata": {
        "id": "zoCL7C2q4FJU",
        "colab_type": "text"
      },
      "cell_type": "markdown",
      "source": [
        "**7.1設置Model參數儲存位置**"
      ]
    },
    {
      "metadata": {
        "id": "e8ytR_LAnwvi",
        "colab_type": "code",
        "colab": {}
      },
      "cell_type": "code",
      "source": [
        "ouputlog_filename = \"model_arg_log.txt\"\n",
        "output_path= currentPath+'/log/model_log/'      \n",
        "\n",
        "def outputmodellog(getlog):\n",
        "\n",
        "    if not os.path.exists(str(output_path + ouputlog_filename)):\n",
        "         os.mkdir(str(output_path))\n",
        "\n",
        "    filewrite = open(str(output_path + ouputlog_filename), 'w')\n",
        "    filewrite.write(getlog)\n",
        "    filewrite.close()"
      ],
      "execution_count": 0,
      "outputs": []
    },
    {
      "metadata": {
        "id": "jkJf0OyN4VbO",
        "colab_type": "text"
      },
      "cell_type": "markdown",
      "source": [
        "**7.2Neural Network Model架構參數設置**"
      ]
    },
    {
      "metadata": {
        "id": "25TLUamlL5dj",
        "colab_type": "code",
        "colab": {}
      },
      "cell_type": "code",
      "source": [
        "# ----------------------------------- Model argument settings ----------------------------------- \n",
        "\n",
        "# you can use these optimizer option: \"SGD\", \"RMSprop\", \"Adam\", \"Adagrad\",\n",
        "# \"Adadelta\"\n",
        "optimizer = 'Adam'\n",
        "\n",
        "# you can use these loss option:\n",
        "# \"categorical_crossentropy\",\"mean_squared_error\",\"mean_absolute_error\",\"cosine_proximity\"\n",
        "loss = 'categorical_crossentropy'\n",
        "\n",
        "# net layer argument settings\n",
        "# input layer\n",
        "inputlayer_Activation = 'relu'\n",
        "inputlayer_conv2D_hidden_unit = 32\n",
        "inputlayer_conv2D_kernel_size = (3,3)\n",
        "inputlayer_conv2D_padding = 'same'\n",
        "\n",
        "# one layer\n",
        "onelayer_conv2D_hidden_unit = 32\n",
        "onelayer_conv2D_kernel_size = (3,3)\n",
        "# onelayer_conv2D_padding = 'same'\n",
        "onelayer_Activation = 'relu'\n",
        "onelayer_MaxPooling2D_pool_size = (2,2)\n",
        "onelayer_Dropout = 0.25\n",
        "\n",
        "# two layer\n",
        "twolayer_conv2D_hidden_unit = 64\n",
        "twolayer_conv2D_kernel_size = (3,3)\n",
        "# twolayer_conv2D_padding = 'same'\n",
        "twolayer_Activation = 'relu'\n",
        "twolayer_MaxPooling2D_pool_size = (2,2)\n",
        "twolayer_Dropout = 0.25\n",
        "\n",
        "# three layer\n",
        "threelayer_conv2D_hidden_unit = 128\n",
        "threelayer_conv2D_kernel_size = (3,3)\n",
        "# threelayer_conv2D_padding = 'same'\n",
        "threelayer_Activation = 'relu'\n",
        "threelayer_MaxPooling2D_pool_size = (2,2)\n",
        "threelayer_Dropout = 0.5\n",
        "\n",
        "# four layer\n",
        "fourlayer_conv2D_hidden_unit = 256\n",
        "fourlayer_conv2D_kernel_size = (3,3)\n",
        "# fourlayer_conv2D_padding = 'same'\n",
        "fourlayer_Activation = 'relu'\n",
        "fourlayer_MaxPooling2D_pool_size = (2,2)\n",
        "fourlayer_Dropout = 0.25\n",
        "\n",
        "# full-connection layer\n",
        "full_connectionlayer_Dense = 1024\n",
        "full_connectionlayer_Activation = 'relu'\n",
        "full_connectionlayer_Dropout = 0.5\n",
        "\n",
        "# output layer\n",
        "ouputlayer_Activation = 'softmax'"
      ],
      "execution_count": 0,
      "outputs": []
    },
    {
      "metadata": {
        "id": "SpV6azIu4i3p",
        "colab_type": "text"
      },
      "cell_type": "markdown",
      "source": [
        "**7.3建置Neural Network Model Function**"
      ]
    },
    {
      "metadata": {
        "id": "s5l1qw3ZrSY3",
        "colab_type": "code",
        "colab": {}
      },
      "cell_type": "code",
      "source": [
        "def build_model(img_width,img_height,channels,n_class):\n",
        "\n",
        "    input_shape = (img_width,img_height,channels)\n",
        "\n",
        "#     model = Sequential()\n",
        "    \n",
        "    model = tf.contrib.keras.models.Sequential()\n",
        "    \n",
        "    # Input layer\n",
        "    model.add(tf.contrib.keras.layers.Conv2D(32, kernel_size=inputlayer_conv2D_kernel_size,\n",
        "                 activation=inputlayer_Activation,\n",
        "                 input_shape=input_shape))\n",
        "\n",
        "    # One hiddenlayer (Conv2D,Activation,MaxPooling2D,Dropout)\n",
        "    model.add(tf.contrib.keras.layers.Conv2D(onelayer_conv2D_hidden_unit, onelayer_conv2D_kernel_size, activation=onelayer_Activation))\n",
        "    model.add(tf.contrib.keras.layers.MaxPooling2D(pool_size=onelayer_MaxPooling2D_pool_size))\n",
        "    model.add(tf.contrib.keras.layers.Dropout(onelayer_Dropout))      \n",
        "\n",
        "\n",
        "    # Two hiddenlayer(Conv2D,Activation,MaxPooling2D,Dropout)\n",
        "    model.add(tf.contrib.keras.layers.Conv2D(twolayer_conv2D_hidden_unit, twolayer_conv2D_kernel_size, activation=twolayer_Activation))\n",
        "    model.add(tf.contrib.keras.layers.MaxPooling2D(pool_size=twolayer_MaxPooling2D_pool_size))\n",
        "    model.add(tf.contrib.keras.layers.Dropout(twolayer_Dropout))      \n",
        "    \n",
        "    \n",
        "    # Three hiddenlayer(Conv2D,Activation,MaxPooling2D,Dropout)\n",
        "    model.add(tf.contrib.keras.layers.Conv2D(threelayer_conv2D_hidden_unit, threelayer_conv2D_kernel_size, activation=threelayer_Activation))\n",
        "    model.add(tf.contrib.keras.layers.MaxPooling2D(pool_size=threelayer_MaxPooling2D_pool_size))\n",
        "    model.add(tf.contrib.keras.layers.Dropout(threelayer_Dropout)) \n",
        "    \n",
        "\n",
        "    # Four hiddenlayer(Conv2D,Activation,MaxPooling2D,Dropout)\n",
        "    model.add(tf.contrib.keras.layers.Conv2D(fourlayer_conv2D_hidden_unit, fourlayer_conv2D_kernel_size, activation=fourlayer_Activation))\n",
        "    model.add(tf.contrib.keras.layers.MaxPooling2D(pool_size=fourlayer_MaxPooling2D_pool_size))\n",
        "    model.add(tf.contrib.keras.layers.Dropout(fourlayer_Dropout)) \n",
        "    \n",
        "\n",
        "    # Flatten layer\n",
        "    model.add(tf.contrib.keras.layers.Flatten())\n",
        "\n",
        "    \n",
        "    # Full-connection layer(Dense,Activation,Dropout)\n",
        "    model.add(tf.contrib.keras.layers.Dense(full_connectionlayer_Dense, activation=full_connectionlayer_Activation))\n",
        "    model.add(tf.contrib.keras.layers.Dropout(full_connectionlayer_Dropout))\n",
        "    \n",
        "\n",
        "    # Output layer\n",
        "    model.add(tf.contrib.keras.layers.Dense(n_class, activation=ouputlayer_Activation))\n",
        "\n",
        "    model.summary()\n",
        "\n",
        "    return model"
      ],
      "execution_count": 0,
      "outputs": []
    },
    {
      "metadata": {
        "id": "5UAyIeHd4w-A",
        "colab_type": "text"
      },
      "cell_type": "markdown",
      "source": [
        "**7.4建置Neural Network Model**"
      ]
    },
    {
      "metadata": {
        "id": "V9CxsszEorcA",
        "colab_type": "code",
        "outputId": "c21b44a6-c1ce-4a94-d2b7-72a5c6182d69",
        "colab": {
          "base_uri": "https://localhost:8080/",
          "height": 1042
        }
      },
      "cell_type": "code",
      "source": [
        "# 產生Model架構\n",
        "net_model = build_model(img_width,img_height,channels,n_class)\n",
        "\n",
        "# 配置TPU Model\n",
        "tpu_model = tf.contrib.tpu.keras_to_tpu_model(\n",
        "            net_model,\n",
        "            strategy=tf.contrib.tpu.TPUDistributionStrategy(\n",
        "                tf.contrib.cluster_resolver.TPUClusterResolver(tpu='grpc://' + os.environ['COLAB_TPU_ADDR'])\n",
        "            )\n",
        ")\n",
        "\n",
        "\n",
        "# 編譯TPU Model (optimizer、loss、metrics)\n",
        "tpu_model.compile(\n",
        "            optimizer=tf.train.AdamOptimizer(learning_rate=0.00015, ),\n",
        "            loss=tf.keras.losses.sparse_categorical_crossentropy,\n",
        "            metrics=['sparse_categorical_accuracy']\n",
        ")\n"
      ],
      "execution_count": 0,
      "outputs": [
        {
          "output_type": "stream",
          "text": [
            "_________________________________________________________________\n",
            "Layer (type)                 Output Shape              Param #   \n",
            "=================================================================\n",
            "conv2d_120 (Conv2D)          (None, 94, 94, 32)        896       \n",
            "_________________________________________________________________\n",
            "conv2d_121 (Conv2D)          (None, 92, 92, 32)        9248      \n",
            "_________________________________________________________________\n",
            "max_pooling2d_96 (MaxPooling (None, 46, 46, 32)        0         \n",
            "_________________________________________________________________\n",
            "dropout_120 (Dropout)        (None, 46, 46, 32)        0         \n",
            "_________________________________________________________________\n",
            "conv2d_122 (Conv2D)          (None, 44, 44, 64)        18496     \n",
            "_________________________________________________________________\n",
            "max_pooling2d_97 (MaxPooling (None, 22, 22, 64)        0         \n",
            "_________________________________________________________________\n",
            "dropout_121 (Dropout)        (None, 22, 22, 64)        0         \n",
            "_________________________________________________________________\n",
            "conv2d_123 (Conv2D)          (None, 20, 20, 128)       73856     \n",
            "_________________________________________________________________\n",
            "max_pooling2d_98 (MaxPooling (None, 10, 10, 128)       0         \n",
            "_________________________________________________________________\n",
            "dropout_122 (Dropout)        (None, 10, 10, 128)       0         \n",
            "_________________________________________________________________\n",
            "conv2d_124 (Conv2D)          (None, 8, 8, 256)         295168    \n",
            "_________________________________________________________________\n",
            "max_pooling2d_99 (MaxPooling (None, 4, 4, 256)         0         \n",
            "_________________________________________________________________\n",
            "dropout_123 (Dropout)        (None, 4, 4, 256)         0         \n",
            "_________________________________________________________________\n",
            "flatten_24 (Flatten)         (None, 4096)              0         \n",
            "_________________________________________________________________\n",
            "dense_48 (Dense)             (None, 1024)              4195328   \n",
            "_________________________________________________________________\n",
            "dropout_124 (Dropout)        (None, 1024)              0         \n",
            "_________________________________________________________________\n",
            "dense_49 (Dense)             (None, 6)                 6150      \n",
            "=================================================================\n",
            "Total params: 4,599,142\n",
            "Trainable params: 4,599,142\n",
            "Non-trainable params: 0\n",
            "_________________________________________________________________\n",
            "INFO:tensorflow:Querying Tensorflow master (b'grpc://10.34.205.170:8470') for TPU system metadata.\n",
            "INFO:tensorflow:Found TPU system:\n",
            "INFO:tensorflow:*** Num TPU Cores: 8\n",
            "INFO:tensorflow:*** Num TPU Workers: 1\n",
            "INFO:tensorflow:*** Num TPU Cores Per Worker: 8\n",
            "INFO:tensorflow:*** Available Device: _DeviceAttributes(/job:worker/replica:0/task:0/device:CPU:0, CPU, -1, 12865401386793507506)\n",
            "INFO:tensorflow:*** Available Device: _DeviceAttributes(/job:worker/replica:0/task:0/device:XLA_CPU:0, XLA_CPU, 17179869184, 13902970566572911446)\n",
            "INFO:tensorflow:*** Available Device: _DeviceAttributes(/job:worker/replica:0/task:0/device:XLA_GPU:0, XLA_GPU, 17179869184, 7332481674326820269)\n",
            "INFO:tensorflow:*** Available Device: _DeviceAttributes(/job:worker/replica:0/task:0/device:TPU:0, TPU, 17179869184, 12498914073059066324)\n",
            "INFO:tensorflow:*** Available Device: _DeviceAttributes(/job:worker/replica:0/task:0/device:TPU:1, TPU, 17179869184, 16741463946744568444)\n",
            "INFO:tensorflow:*** Available Device: _DeviceAttributes(/job:worker/replica:0/task:0/device:TPU:2, TPU, 17179869184, 920770809996497019)\n",
            "INFO:tensorflow:*** Available Device: _DeviceAttributes(/job:worker/replica:0/task:0/device:TPU:3, TPU, 17179869184, 11218828428429546990)\n",
            "INFO:tensorflow:*** Available Device: _DeviceAttributes(/job:worker/replica:0/task:0/device:TPU:4, TPU, 17179869184, 14405812456716448951)\n",
            "INFO:tensorflow:*** Available Device: _DeviceAttributes(/job:worker/replica:0/task:0/device:TPU:5, TPU, 17179869184, 1655324371999691483)\n",
            "INFO:tensorflow:*** Available Device: _DeviceAttributes(/job:worker/replica:0/task:0/device:TPU:6, TPU, 17179869184, 1919233983658098376)\n",
            "INFO:tensorflow:*** Available Device: _DeviceAttributes(/job:worker/replica:0/task:0/device:TPU:7, TPU, 17179869184, 13968092580064984089)\n",
            "INFO:tensorflow:*** Available Device: _DeviceAttributes(/job:worker/replica:0/task:0/device:TPU_SYSTEM:0, TPU_SYSTEM, 17179869184, 12706364190521983947)\n",
            "WARNING:tensorflow:tpu_model (from tensorflow.contrib.tpu.python.tpu.keras_support) is experimental and may change or be removed at any time, and without warning.\n"
          ],
          "name": "stdout"
        }
      ]
    },
    {
      "metadata": {
        "id": "khEQgsl3vBJf",
        "colab_type": "text"
      },
      "cell_type": "markdown",
      "source": [
        "#8. 訓練模型"
      ]
    },
    {
      "metadata": {
        "id": "JMNNHQPDLwBo",
        "colab_type": "code",
        "colab": {}
      },
      "cell_type": "code",
      "source": [
        "# ----------------------------------- Train argument settings ----------------------------------- \n",
        "\n",
        "batch_size = 23\n",
        "\n",
        "epochs = 84\n",
        "\n",
        "verbose=1"
      ],
      "execution_count": 0,
      "outputs": []
    },
    {
      "metadata": {
        "id": "NZsnBP98u9wn",
        "colab_type": "code",
        "outputId": "f3cf87ea-45f3-4d93-9d51-2ccf0aae5895",
        "colab": {
          "base_uri": "https://localhost:8080/",
          "height": 3615
        }
      },
      "cell_type": "code",
      "source": [
        "# ImageDataGenerator declard and argument settings\n",
        "# https://chtseng.wordpress.com/2017/11/11/data-augmentation-%E8%B3%87%E6%96%99%E5%A2%9E%E5%BC%B7/\n",
        "datagen = ImageDataGenerator(featurewise_center = False,\n",
        "        samplewise_center  = False,\n",
        "        featurewise_std_normalization = False,\n",
        "        samplewise_std_normalization  = False,\n",
        "        zca_whitening = False,\n",
        "        rotation_range = 20,\n",
        "        width_shift_range  = 0.2,\n",
        "        height_shift_range = 0.2,\n",
        "        horizontal_flip = True,\n",
        "        vertical_flip = False)\n",
        "\n",
        "print(\"\\n\\n\")\n",
        "print(device_lib.list_local_devices())\n",
        "    \n",
        "print(\"\\n\\nWait for configure operation sources...... \\n\\n\")\n",
        "\n",
        "# process image computing of\n",
        "# \"featurewise_center\",\"featurewise_std_normalization\",\"zca_whitening\"\n",
        "datagen.fit(train_images)\n",
        "\n",
        "\n",
        "def train_gen(batch_size):\n",
        "  while True:\n",
        "    offset = np.random.randint(0, train_images.shape[0] - batch_size)\n",
        "    yield train_images[offset:offset+batch_size], train_labels[offset:offset + batch_size]\n",
        "\n",
        "\n",
        "steps_per_epoch = (len(train_images) / batch_size)\n",
        "# steps_per_epoch =len(train_images)/2 \n",
        "# steps_per_epoch =len(train_images)\n",
        "\n",
        "# start train\n",
        "# Training\n",
        "history = tpu_model.fit_generator(\n",
        "        train_gen(batch_size),\n",
        "        epochs=epochs,\n",
        "        steps_per_epoch=steps_per_epoch,\n",
        "        validation_data=(test_images, test_labels)\n",
        ")\n",
        "  \n",
        "\n",
        "\n",
        "# with tf.device(n_GPU): \n",
        "   \n",
        "#      history = net_model.fit_generator(datagen.flow(train_images, train_labels,batch_size = batch_size),\n",
        "#                                         steps_per_epoch = steps_per_epoch,\n",
        "#                                         epochs = epochs,\n",
        "#                                         verbose = verbose,                                                                      \n",
        "#                                         validation_data = (valid_images,valid_labels))"
      ],
      "execution_count": 0,
      "outputs": [
        {
          "output_type": "stream",
          "text": [
            "\n",
            "\n",
            "\n",
            "[name: \"/device:CPU:0\"\n",
            "device_type: \"CPU\"\n",
            "memory_limit: 268435456\n",
            "locality {\n",
            "}\n",
            "incarnation: 13564086524381236334\n",
            ", name: \"/device:XLA_CPU:0\"\n",
            "device_type: \"XLA_CPU\"\n",
            "memory_limit: 17179869184\n",
            "locality {\n",
            "}\n",
            "incarnation: 11783723504656819813\n",
            "physical_device_desc: \"device: XLA_CPU device\"\n",
            "]\n",
            "\n",
            "\n",
            "Wait for configure operation sources...... \n",
            "\n",
            "\n",
            "Epoch 1/84\n",
            "INFO:tensorflow:New input shapes; (re-)compiling: mode=train (# of cores 8), [TensorSpec(shape=(2,), dtype=tf.int32, name='core_id_460'), TensorSpec(shape=(2, 96, 96, 3), dtype=tf.float32, name='conv2d_120_input_10'), TensorSpec(shape=(2, 1), dtype=tf.float32, name='dense_49_target_10')]\n",
            "INFO:tensorflow:Overriding default placeholder.\n",
            "INFO:tensorflow:Remapping placeholder for conv2d_120_input\n",
            "INFO:tensorflow:Started compiling\n",
            "INFO:tensorflow:Finished compiling. Time elapsed: 50.77664065361023 secs\n",
            "INFO:tensorflow:Setting weights on TPU model.\n",
            "18/18 [===========================>..] - ETA: 3s - loss: 1.8241 - sparse_categorical_accuracy: 0.1562INFO:tensorflow:New input shapes; (re-)compiling: mode=eval (# of cores 8), [TensorSpec(shape=(2,), dtype=tf.int32, name='core_id_470'), TensorSpec(shape=(2, 96, 96, 3), dtype=tf.float32, name='conv2d_120_input_10'), TensorSpec(shape=(2, 1), dtype=tf.float32, name='dense_49_target_10')]\n",
            "INFO:tensorflow:Overriding default placeholder.\n",
            "INFO:tensorflow:Remapping placeholder for conv2d_120_input\n",
            "INFO:tensorflow:Started compiling\n",
            "INFO:tensorflow:Finished compiling. Time elapsed: 45.644891023635864 secs\n",
            "INFO:tensorflow:New input shapes; (re-)compiling: mode=eval (# of cores 8), [TensorSpec(shape=(1,), dtype=tf.int32, name='core_id_470'), TensorSpec(shape=(1, 96, 96, 3), dtype=tf.float32, name='conv2d_120_input_10'), TensorSpec(shape=(1, 1), dtype=tf.float32, name='dense_49_target_10')]\n",
            "INFO:tensorflow:Overriding default placeholder.\n",
            "INFO:tensorflow:Remapping placeholder for conv2d_120_input\n",
            "INFO:tensorflow:Started compiling\n",
            "INFO:tensorflow:Finished compiling. Time elapsed: 46.21499848365784 secs\n",
            "19/18 [==============================] - 179s 9s/step - loss: 1.8216 - sparse_categorical_accuracy: 0.1612 - val_loss: 1.7883 - val_sparse_categorical_accuracy: 0.2212\n",
            "Epoch 2/84\n",
            "19/18 [==============================] - 2s 121ms/step - loss: 1.7690 - sparse_categorical_accuracy: 0.1678 - val_loss: 1.7836 - val_sparse_categorical_accuracy: 0.1582\n",
            "Epoch 3/84\n",
            "19/18 [==============================] - 2s 113ms/step - loss: 1.7574 - sparse_categorical_accuracy: 0.2072 - val_loss: 1.7810 - val_sparse_categorical_accuracy: 0.2976\n",
            "Epoch 4/84\n",
            "19/18 [==============================] - 2s 113ms/step - loss: 1.7650 - sparse_categorical_accuracy: 0.2237 - val_loss: 1.7737 - val_sparse_categorical_accuracy: 0.2500\n",
            "Epoch 5/84\n",
            "19/18 [==============================] - 2s 114ms/step - loss: 1.7003 - sparse_categorical_accuracy: 0.3059 - val_loss: 1.7585 - val_sparse_categorical_accuracy: 0.3120\n",
            "Epoch 6/84\n",
            "19/18 [==============================] - 2s 113ms/step - loss: 1.6661 - sparse_categorical_accuracy: 0.2961 - val_loss: 1.7115 - val_sparse_categorical_accuracy: 0.3606\n",
            "Epoch 7/84\n",
            "19/18 [==============================] - 2s 115ms/step - loss: 1.6280 - sparse_categorical_accuracy: 0.3355 - val_loss: 1.6746 - val_sparse_categorical_accuracy: 0.4149\n",
            "Epoch 8/84\n",
            "19/18 [==============================] - 2s 112ms/step - loss: 1.5959 - sparse_categorical_accuracy: 0.3651 - val_loss: 1.6594 - val_sparse_categorical_accuracy: 0.3452\n",
            "Epoch 9/84\n",
            "19/18 [==============================] - 2s 112ms/step - loss: 1.4464 - sparse_categorical_accuracy: 0.4770 - val_loss: 1.5492 - val_sparse_categorical_accuracy: 0.4889\n",
            "Epoch 10/84\n",
            "19/18 [==============================] - 2s 113ms/step - loss: 1.4187 - sparse_categorical_accuracy: 0.4145 - val_loss: 1.4618 - val_sparse_categorical_accuracy: 0.5442\n",
            "Epoch 11/84\n",
            "19/18 [==============================] - 2s 114ms/step - loss: 1.4849 - sparse_categorical_accuracy: 0.3816 - val_loss: 1.4849 - val_sparse_categorical_accuracy: 0.5255\n",
            "Epoch 12/84\n",
            "19/18 [==============================] - 2s 111ms/step - loss: 1.3143 - sparse_categorical_accuracy: 0.5033 - val_loss: 1.4282 - val_sparse_categorical_accuracy: 0.4736\n",
            "Epoch 13/84\n",
            "19/18 [==============================] - 2s 114ms/step - loss: 1.3673 - sparse_categorical_accuracy: 0.4572 - val_loss: 1.4380 - val_sparse_categorical_accuracy: 0.5000\n",
            "Epoch 14/84\n",
            "19/18 [==============================] - 2s 112ms/step - loss: 1.2511 - sparse_categorical_accuracy: 0.5132 - val_loss: 1.3393 - val_sparse_categorical_accuracy: 0.5442\n",
            "Epoch 15/84\n",
            "19/18 [==============================] - 2s 117ms/step - loss: 1.1435 - sparse_categorical_accuracy: 0.5428 - val_loss: 1.2636 - val_sparse_categorical_accuracy: 0.6139\n",
            "Epoch 16/84\n",
            "19/18 [==============================] - 2s 114ms/step - loss: 1.1568 - sparse_categorical_accuracy: 0.5362 - val_loss: 1.2214 - val_sparse_categorical_accuracy: 0.6029\n",
            "Epoch 17/84\n",
            "19/18 [==============================] - 2s 116ms/step - loss: 1.2139 - sparse_categorical_accuracy: 0.5066 - val_loss: 1.2743 - val_sparse_categorical_accuracy: 0.5918\n",
            "Epoch 18/84\n",
            "19/18 [==============================] - 2s 113ms/step - loss: 1.1558 - sparse_categorical_accuracy: 0.5395 - val_loss: 1.1848 - val_sparse_categorical_accuracy: 0.6062\n",
            "Epoch 19/84\n",
            "19/18 [==============================] - 2s 114ms/step - loss: 1.1018 - sparse_categorical_accuracy: 0.6020 - val_loss: 1.1317 - val_sparse_categorical_accuracy: 0.6947\n",
            "Epoch 20/84\n",
            "19/18 [==============================] - 2s 116ms/step - loss: 0.9452 - sparse_categorical_accuracy: 0.6546 - val_loss: 1.0631 - val_sparse_categorical_accuracy: 0.7389\n",
            "Epoch 21/84\n",
            "19/18 [==============================] - 2s 116ms/step - loss: 1.0151 - sparse_categorical_accuracy: 0.6118 - val_loss: 1.1304 - val_sparse_categorical_accuracy: 0.6394\n",
            "Epoch 22/84\n",
            "19/18 [==============================] - 2s 114ms/step - loss: 0.9224 - sparse_categorical_accuracy: 0.6875 - val_loss: 0.9958 - val_sparse_categorical_accuracy: 0.7091\n",
            "Epoch 23/84\n",
            "19/18 [==============================] - 2s 114ms/step - loss: 0.8330 - sparse_categorical_accuracy: 0.6941 - val_loss: 0.9911 - val_sparse_categorical_accuracy: 0.6947\n",
            "Epoch 24/84\n",
            "19/18 [==============================] - 2s 116ms/step - loss: 0.8515 - sparse_categorical_accuracy: 0.6908 - val_loss: 0.8995 - val_sparse_categorical_accuracy: 0.7788\n",
            "Epoch 25/84\n",
            "19/18 [==============================] - 2s 116ms/step - loss: 0.7585 - sparse_categorical_accuracy: 0.7270 - val_loss: 0.8528 - val_sparse_categorical_accuracy: 0.7245\n",
            "Epoch 26/84\n",
            "19/18 [==============================] - 2s 115ms/step - loss: 0.8092 - sparse_categorical_accuracy: 0.7007 - val_loss: 0.9156 - val_sparse_categorical_accuracy: 0.6981\n",
            "Epoch 27/84\n",
            "19/18 [==============================] - 2s 117ms/step - loss: 0.8692 - sparse_categorical_accuracy: 0.6842 - val_loss: 0.8862 - val_sparse_categorical_accuracy: 0.7534\n",
            "Epoch 28/84\n",
            "19/18 [==============================] - 2s 118ms/step - loss: 0.8403 - sparse_categorical_accuracy: 0.6842 - val_loss: 0.8517 - val_sparse_categorical_accuracy: 0.8087\n",
            "Epoch 29/84\n",
            "19/18 [==============================] - 2s 115ms/step - loss: 0.8636 - sparse_categorical_accuracy: 0.7138 - val_loss: 0.8946 - val_sparse_categorical_accuracy: 0.7423\n",
            "Epoch 30/84\n",
            "19/18 [==============================] - 2s 116ms/step - loss: 0.7187 - sparse_categorical_accuracy: 0.7303 - val_loss: 0.7818 - val_sparse_categorical_accuracy: 0.7678\n",
            "Epoch 31/84\n",
            "19/18 [==============================] - 2s 114ms/step - loss: 0.8720 - sparse_categorical_accuracy: 0.6645 - val_loss: 0.9450 - val_sparse_categorical_accuracy: 0.7788\n",
            "Epoch 32/84\n",
            "19/18 [==============================] - 2s 114ms/step - loss: 0.7103 - sparse_categorical_accuracy: 0.7270 - val_loss: 0.7732 - val_sparse_categorical_accuracy: 0.8010\n",
            "Epoch 33/84\n",
            "19/18 [==============================] - 2s 113ms/step - loss: 0.5739 - sparse_categorical_accuracy: 0.8026 - val_loss: 0.7294 - val_sparse_categorical_accuracy: 0.8231\n",
            "Epoch 34/84\n",
            "19/18 [==============================] - 2s 113ms/step - loss: 0.6907 - sparse_categorical_accuracy: 0.7566 - val_loss: 0.6867 - val_sparse_categorical_accuracy: 0.8562\n",
            "Epoch 35/84\n",
            "19/18 [==============================] - 2s 115ms/step - loss: 0.5269 - sparse_categorical_accuracy: 0.8092 - val_loss: 0.6539 - val_sparse_categorical_accuracy: 0.8562\n",
            "Epoch 36/84\n",
            "19/18 [==============================] - 2s 113ms/step - loss: 0.5495 - sparse_categorical_accuracy: 0.8224 - val_loss: 0.6196 - val_sparse_categorical_accuracy: 0.8341\n",
            "Epoch 37/84\n",
            "19/18 [==============================] - 2s 113ms/step - loss: 0.5210 - sparse_categorical_accuracy: 0.8059 - val_loss: 0.5865 - val_sparse_categorical_accuracy: 0.8562\n",
            "Epoch 38/84\n",
            "19/18 [==============================] - 2s 113ms/step - loss: 0.7245 - sparse_categorical_accuracy: 0.7204 - val_loss: 0.6708 - val_sparse_categorical_accuracy: 0.8894\n",
            "Epoch 39/84\n",
            "19/18 [==============================] - 2s 112ms/step - loss: 0.5320 - sparse_categorical_accuracy: 0.8289 - val_loss: 0.6523 - val_sparse_categorical_accuracy: 0.8010\n",
            "Epoch 40/84\n",
            "19/18 [==============================] - 2s 112ms/step - loss: 0.5198 - sparse_categorical_accuracy: 0.8026 - val_loss: 0.5278 - val_sparse_categorical_accuracy: 0.9005\n",
            "Epoch 41/84\n",
            "19/18 [==============================] - 2s 113ms/step - loss: 0.5250 - sparse_categorical_accuracy: 0.8092 - val_loss: 0.5098 - val_sparse_categorical_accuracy: 0.9082\n",
            "Epoch 42/84\n",
            "19/18 [==============================] - 2s 109ms/step - loss: 0.6828 - sparse_categorical_accuracy: 0.7599 - val_loss: 0.5747 - val_sparse_categorical_accuracy: 0.8562\n",
            "Epoch 43/84\n",
            "19/18 [==============================] - 2s 112ms/step - loss: 0.5628 - sparse_categorical_accuracy: 0.8092 - val_loss: 0.5551 - val_sparse_categorical_accuracy: 0.8418\n",
            "Epoch 44/84\n",
            "19/18 [==============================] - 2s 113ms/step - loss: 0.5212 - sparse_categorical_accuracy: 0.8125 - val_loss: 0.5458 - val_sparse_categorical_accuracy: 0.8784\n",
            "Epoch 45/84\n",
            "19/18 [==============================] - 2s 114ms/step - loss: 0.3897 - sparse_categorical_accuracy: 0.8520 - val_loss: 0.4518 - val_sparse_categorical_accuracy: 0.8639\n",
            "Epoch 46/84\n",
            "19/18 [==============================] - 2s 112ms/step - loss: 0.4490 - sparse_categorical_accuracy: 0.8355 - val_loss: 0.4262 - val_sparse_categorical_accuracy: 0.8784\n",
            "Epoch 47/84\n",
            "19/18 [==============================] - 2s 114ms/step - loss: 0.4723 - sparse_categorical_accuracy: 0.8257 - val_loss: 0.4530 - val_sparse_categorical_accuracy: 0.9115\n",
            "Epoch 48/84\n",
            "19/18 [==============================] - 2s 113ms/step - loss: 0.3790 - sparse_categorical_accuracy: 0.8618 - val_loss: 0.4077 - val_sparse_categorical_accuracy: 0.9082\n",
            "Epoch 49/84\n",
            "19/18 [==============================] - 2s 115ms/step - loss: 0.4074 - sparse_categorical_accuracy: 0.8651 - val_loss: 0.4288 - val_sparse_categorical_accuracy: 0.9337\n",
            "Epoch 50/84\n",
            "19/18 [==============================] - 2s 114ms/step - loss: 0.2538 - sparse_categorical_accuracy: 0.9211 - val_loss: 0.3656 - val_sparse_categorical_accuracy: 0.8894\n",
            "Epoch 51/84\n",
            "19/18 [==============================] - 2s 114ms/step - loss: 0.3178 - sparse_categorical_accuracy: 0.8783 - val_loss: 0.3515 - val_sparse_categorical_accuracy: 0.9226\n",
            "Epoch 52/84\n",
            "19/18 [==============================] - 2s 115ms/step - loss: 0.3723 - sparse_categorical_accuracy: 0.8717 - val_loss: 0.3399 - val_sparse_categorical_accuracy: 0.9226\n",
            "Epoch 53/84\n",
            "19/18 [==============================] - 2s 111ms/step - loss: 0.3032 - sparse_categorical_accuracy: 0.9013 - val_loss: 0.3367 - val_sparse_categorical_accuracy: 0.9447\n",
            "Epoch 54/84\n",
            "19/18 [==============================] - 2s 112ms/step - loss: 0.3164 - sparse_categorical_accuracy: 0.9112 - val_loss: 0.3236 - val_sparse_categorical_accuracy: 0.9226\n",
            "Epoch 55/84\n",
            "19/18 [==============================] - 2s 116ms/step - loss: 0.3151 - sparse_categorical_accuracy: 0.8882 - val_loss: 0.2811 - val_sparse_categorical_accuracy: 0.9668\n",
            "Epoch 56/84\n",
            "19/18 [==============================] - 2s 116ms/step - loss: 0.2630 - sparse_categorical_accuracy: 0.9013 - val_loss: 0.2761 - val_sparse_categorical_accuracy: 0.9337\n",
            "Epoch 57/84\n",
            "19/18 [==============================] - 2s 119ms/step - loss: 0.2318 - sparse_categorical_accuracy: 0.9112 - val_loss: 0.3018 - val_sparse_categorical_accuracy: 0.9447\n",
            "Epoch 58/84\n",
            "19/18 [==============================] - 2s 115ms/step - loss: 0.2283 - sparse_categorical_accuracy: 0.9178 - val_loss: 0.1997 - val_sparse_categorical_accuracy: 0.9558\n",
            "Epoch 59/84\n",
            "19/18 [==============================] - 2s 115ms/step - loss: 0.2993 - sparse_categorical_accuracy: 0.8816 - val_loss: 0.2366 - val_sparse_categorical_accuracy: 0.9558\n",
            "Epoch 60/84\n",
            "19/18 [==============================] - 2s 117ms/step - loss: 0.2131 - sparse_categorical_accuracy: 0.9342 - val_loss: 0.2548 - val_sparse_categorical_accuracy: 0.9558\n",
            "Epoch 61/84\n",
            "19/18 [==============================] - 2s 116ms/step - loss: 0.2256 - sparse_categorical_accuracy: 0.9079 - val_loss: 0.2328 - val_sparse_categorical_accuracy: 0.9558\n",
            "Epoch 62/84\n",
            "19/18 [==============================] - 2s 114ms/step - loss: 0.2205 - sparse_categorical_accuracy: 0.9112 - val_loss: 0.1809 - val_sparse_categorical_accuracy: 0.9779\n",
            "Epoch 63/84\n",
            "19/18 [==============================] - 2s 115ms/step - loss: 0.1948 - sparse_categorical_accuracy: 0.9309 - val_loss: 0.2798 - val_sparse_categorical_accuracy: 0.9558\n",
            "Epoch 64/84\n",
            "19/18 [==============================] - 2s 114ms/step - loss: 0.1604 - sparse_categorical_accuracy: 0.9408 - val_loss: 0.2268 - val_sparse_categorical_accuracy: 0.9779\n",
            "Epoch 65/84\n",
            "19/18 [==============================] - 2s 113ms/step - loss: 0.1927 - sparse_categorical_accuracy: 0.9211 - val_loss: 0.1957 - val_sparse_categorical_accuracy: 0.9447\n",
            "Epoch 66/84\n",
            "19/18 [==============================] - 2s 114ms/step - loss: 0.1468 - sparse_categorical_accuracy: 0.9605 - val_loss: 0.1757 - val_sparse_categorical_accuracy: 0.9558\n",
            "Epoch 67/84\n",
            "19/18 [==============================] - 2s 111ms/step - loss: 0.0965 - sparse_categorical_accuracy: 0.9704 - val_loss: 0.1488 - val_sparse_categorical_accuracy: 0.9779\n",
            "Epoch 68/84\n",
            "19/18 [==============================] - 2s 115ms/step - loss: 0.1646 - sparse_categorical_accuracy: 0.9507 - val_loss: 0.1645 - val_sparse_categorical_accuracy: 0.9668\n",
            "Epoch 69/84\n",
            "19/18 [==============================] - 2s 112ms/step - loss: 0.1844 - sparse_categorical_accuracy: 0.9375 - val_loss: 0.1301 - val_sparse_categorical_accuracy: 0.9779\n",
            "Epoch 70/84\n",
            "19/18 [==============================] - 2s 114ms/step - loss: 0.1679 - sparse_categorical_accuracy: 0.9342 - val_loss: 0.1588 - val_sparse_categorical_accuracy: 0.9558\n",
            "Epoch 71/84\n",
            "19/18 [==============================] - 2s 112ms/step - loss: 0.1186 - sparse_categorical_accuracy: 0.9605 - val_loss: 0.1187 - val_sparse_categorical_accuracy: 1.0000\n",
            "Epoch 72/84\n",
            "19/18 [==============================] - 2s 113ms/step - loss: 0.1086 - sparse_categorical_accuracy: 0.9539 - val_loss: 0.1384 - val_sparse_categorical_accuracy: 0.9779\n",
            "Epoch 73/84\n",
            "19/18 [==============================] - 2s 110ms/step - loss: 0.1658 - sparse_categorical_accuracy: 0.9474 - val_loss: 0.1075 - val_sparse_categorical_accuracy: 0.9779\n",
            "Epoch 74/84\n",
            "19/18 [==============================] - 2s 111ms/step - loss: 0.1056 - sparse_categorical_accuracy: 0.9605 - val_loss: 0.1188 - val_sparse_categorical_accuracy: 0.9558\n",
            "Epoch 75/84\n",
            "19/18 [==============================] - 2s 116ms/step - loss: 0.1281 - sparse_categorical_accuracy: 0.9572 - val_loss: 0.0825 - val_sparse_categorical_accuracy: 0.9889\n",
            "Epoch 76/84\n",
            "19/18 [==============================] - 2s 110ms/step - loss: 0.1379 - sparse_categorical_accuracy: 0.9441 - val_loss: 0.1196 - val_sparse_categorical_accuracy: 0.9779\n",
            "Epoch 77/84\n",
            "19/18 [==============================] - 2s 114ms/step - loss: 0.1834 - sparse_categorical_accuracy: 0.9507 - val_loss: 0.0932 - val_sparse_categorical_accuracy: 0.9779\n",
            "Epoch 78/84\n",
            "19/18 [==============================] - 2s 111ms/step - loss: 0.1179 - sparse_categorical_accuracy: 0.9507 - val_loss: 0.1303 - val_sparse_categorical_accuracy: 0.9668\n",
            "Epoch 79/84\n",
            "19/18 [==============================] - 2s 115ms/step - loss: 0.1193 - sparse_categorical_accuracy: 0.9638 - val_loss: 0.0955 - val_sparse_categorical_accuracy: 0.9889\n",
            "Epoch 80/84\n",
            "19/18 [==============================] - 2s 120ms/step - loss: 0.1685 - sparse_categorical_accuracy: 0.9474 - val_loss: 0.0936 - val_sparse_categorical_accuracy: 0.9889\n",
            "Epoch 81/84\n",
            "19/18 [==============================] - 2s 118ms/step - loss: 0.1110 - sparse_categorical_accuracy: 0.9770 - val_loss: 0.0771 - val_sparse_categorical_accuracy: 0.9889\n",
            "Epoch 82/84\n",
            "19/18 [==============================] - 2s 111ms/step - loss: 0.1008 - sparse_categorical_accuracy: 0.9572 - val_loss: 0.0718 - val_sparse_categorical_accuracy: 0.9889\n",
            "Epoch 83/84\n",
            "19/18 [==============================] - 2s 113ms/step - loss: 0.0919 - sparse_categorical_accuracy: 0.9671 - val_loss: 0.0742 - val_sparse_categorical_accuracy: 1.0000\n",
            "Epoch 84/84\n",
            "19/18 [==============================] - 2s 114ms/step - loss: 0.0817 - sparse_categorical_accuracy: 0.9737 - val_loss: 0.0684 - val_sparse_categorical_accuracy: 1.0000\n"
          ],
          "name": "stdout"
        }
      ]
    },
    {
      "metadata": {
        "id": "VAVIXTsa1ks0",
        "colab_type": "text"
      },
      "cell_type": "markdown",
      "source": [
        "#9. 驗證模型"
      ]
    },
    {
      "metadata": {
        "id": "_aASSrtNGazW",
        "colab_type": "code",
        "colab": {}
      },
      "cell_type": "code",
      "source": [
        "# print(valid_labels , end='\\n\\n')\n",
        "# print(test_labels,end='\\n\\n')\n",
        "\n",
        "# print(type(valid_labels))\n",
        "# print(type(test_labels))\n"
      ],
      "execution_count": 0,
      "outputs": []
    },
    {
      "metadata": {
        "id": "s6HpsBQg1jAC",
        "colab_type": "code",
        "outputId": "0ae4f1d2-7078-4944-cd27-4e95851064ec",
        "colab": {
          "base_uri": "https://localhost:8080/",
          "height": 193
        }
      },
      "cell_type": "code",
      "source": [
        "#print(history.history)\n",
        "\n",
        "# Evaluate model\n",
        "# score = tpu_model.evaluate(test_images,test_labels, verbose=1)\n",
        "score = tpu_model.evaluate(valid_images,valid_labels, verbose=1)\n",
        "print(\">>>>>>>>>>>>>>>>>>>>>>>>>>>>>>>>\")\n",
        "print(\"Test Accuracy: {:.2f}\".format(score[1]))\n",
        "print(\">>>>>>>>>>>>>>>>>>>>>>>>>>>>>>>>\")"
      ],
      "execution_count": 0,
      "outputs": [
        {
          "output_type": "stream",
          "text": [
            "INFO:tensorflow:New input shapes; (re-)compiling: mode=eval (# of cores 8), [TensorSpec(shape=(4,), dtype=tf.int32, name='core_id_470'), TensorSpec(shape=(4, 96, 96, 3), dtype=tf.float32, name='conv2d_120_input_10'), TensorSpec(shape=(4, 1), dtype=tf.float32, name='dense_49_target_10')]\n",
            "INFO:tensorflow:Overriding default placeholder.\n",
            "INFO:tensorflow:Remapping placeholder for conv2d_120_input\n",
            "INFO:tensorflow:Started compiling\n",
            "INFO:tensorflow:Finished compiling. Time elapsed: 46.099350452423096 secs\n",
            "108/108 [==============================] - 50s 460ms/step\n",
            ">>>>>>>>>>>>>>>>>>>>>>>>>>>>>>>>\n",
            "Test Accuracy: 0.70\n",
            ">>>>>>>>>>>>>>>>>>>>>>>>>>>>>>>>\n"
          ],
          "name": "stdout"
        }
      ]
    },
    {
      "metadata": {
        "id": "jQB7bz0D5fvO",
        "colab_type": "text"
      },
      "cell_type": "markdown",
      "source": [
        "**9.1產生分析圖**"
      ]
    },
    {
      "metadata": {
        "id": "ICj_I2S85f6D",
        "colab_type": "code",
        "outputId": "0c4de448-c735-4527-bc1d-c32199af4cc0",
        "colab": {
          "base_uri": "https://localhost:8080/",
          "height": 1145
        }
      },
      "cell_type": "code",
      "source": [
        "# create figure\n",
        "plot_figure(history,figure_dir,figure_classname)"
      ],
      "execution_count": 0,
      "outputs": [
        {
          "output_type": "display_data",
          "data": {
            "image/png": "[encoded data removed]",
            "text/plain": [
              "<matplotlib.figure.Figure at 0x7fcf78d24da0>"
            ]
          },
          "metadata": {
            "tags": []
          }
        },
        {
          "output_type": "display_data",
          "data": {
            "image/png": "[encoded data removed]",
            "text/plain": [
              "<matplotlib.figure.Figure at 0x7fcf78da4518>"
            ]
          },
          "metadata": {
            "tags": []
          }
        }
      ]
    },
    {
      "metadata": {
        "id": "lcHliHQv9a90",
        "colab_type": "text"
      },
      "cell_type": "markdown",
      "source": [
        "**9.2儲存神經網路模型**"
      ]
    },
    {
      "metadata": {
        "id": "oxX7sA9m9F_x",
        "colab_type": "code",
        "outputId": "9c0fd1d1-10d4-46dd-ec50-e3fe8e9e8cb8",
        "colab": {
          "base_uri": "https://localhost:8080/",
          "height": 211
        }
      },
      "cell_type": "code",
      "source": [
        "print(\">>>>>>>>>>>>>>>>>>>>>>>>>>>>>>>>\")\n",
        "print(\"h5_Model_Weigth Save Path: {}\".format(h5_model_weight_name))\n",
        "print(\"h5_Model Save Path: {}\".format(h5_model_name))\n",
        "print(\">>>>>>>>>>>>>>>>>>>>>>>>>>>>>>>>\")\n",
        "\n",
        "# save model and weight\n",
        "tpu_model.save_weights(h5_model_weight_name)\n",
        "tpu_model.save(h5_model_name)\n",
        "\n",
        "print(\"\\n顯示/content/Model底下檔案清單:\")\n",
        "\n",
        "#顯示/content/Model底下檔案清單\n",
        "!ls '/content/Model'"
      ],
      "execution_count": 0,
      "outputs": [
        {
          "output_type": "stream",
          "text": [
            ">>>>>>>>>>>>>>>>>>>>>>>>>>>>>>>>\n",
            "h5_Model_Weigth Save Path: /content/Model/FaceID_C6_weight.h5\n",
            "h5_Model Save Path: /content/Model/FaceID_C6_model.h5\n",
            ">>>>>>>>>>>>>>>>>>>>>>>>>>>>>>>>\n",
            "INFO:tensorflow:Copying TPU weights to the CPU\n",
            "INFO:tensorflow:Copying TPU weights to the CPU\n",
            "WARNING:tensorflow:TensorFlow optimizers do not make it possible to access optimizer attributes or optimizer state after instantiation. As a result, we cannot save the optimizer as part of the model save file.You will have to compile your model again after loading it. Prefer using a Keras optimizer instead (see keras.io/optimizers).\n",
            "\n",
            "顯示/content/Model底下檔案清單:\n",
            "FaceID_C6_model.h5  FaceID_C6_weight.h5\n"
          ],
          "name": "stdout"
        }
      ]
    },
    {
      "metadata": {
        "id": "jgUgLNAl9KyQ",
        "colab_type": "code",
        "outputId": "bfce0cd7-cc65-4680-a6b0-920201654910",
        "colab": {
          "base_uri": "https://localhost:8080/",
          "height": 69
        }
      },
      "cell_type": "code",
      "source": [
        "end_time = '{:.2f}'.format((time.time() - start_time))\n",
        "print(\">>>>>>>>>>>>>>>>>>>>>>>>>>>>>>>>\")\n",
        "print(\"Speed Time: {}s\".format(end_time))\n",
        "print(\">>>>>>>>>>>>>>>>>>>>>>>>>>>>>>>>\")"
      ],
      "execution_count": 0,
      "outputs": [
        {
          "output_type": "stream",
          "text": [
            ">>>>>>>>>>>>>>>>>>>>>>>>>>>>>>>>\n",
            "Speed Time: 957.43s\n",
            ">>>>>>>>>>>>>>>>>>>>>>>>>>>>>>>>\n"
          ],
          "name": "stdout"
        }
      ]
    },
    {
      "metadata": {
        "id": "qG2Vy6EJF3_H",
        "colab_type": "text"
      },
      "cell_type": "markdown",
      "source": [
        "#10. 預測圖片"
      ]
    },
    {
      "metadata": {
        "id": "xi0SOP9aAtBO",
        "colab_type": "text"
      },
      "cell_type": "markdown",
      "source": [
        "**10.1載入模型**"
      ]
    },
    {
      "metadata": {
        "id": "XcXO_KnfrUFB",
        "colab_type": "code",
        "outputId": "4bce17dc-130b-4099-8a12-9bf5e12a4181",
        "colab": {
          "base_uri": "https://localhost:8080/",
          "height": 885
        }
      },
      "cell_type": "code",
      "source": [
        "# log output file\n",
        "outputfile_path = currentPath + '/log'\n",
        "write_fileName = str(face_class)+\"_prediction_output.txt\"\n",
        "full_outputfile_path = os.path.abspath(os.path.join(outputfile_path + write_fileName))\n",
        "\n",
        "start_time = time.time()\n",
        "\n",
        "# tf.contrib.predictor.from_saved_model 參考來源\n",
        "# https://www.tensorflow.org/api_docs/python/tf/contrib/predictor/from_saved_model\n",
        "get_model= tf.keras.models.load_model(\n",
        "            h5_model_name,\n",
        "            custom_objects=None,\n",
        "            compile=True\n",
        "          )\n",
        "\n",
        "print('Start Load Model......')\n",
        "      \n",
        "print(\"Model Name: {}\\nPath: {}\".format(\"FaceID_C\" + str(face_class) + \"_model.h5\",h5_model_name))\n",
        "\n",
        "print(\"\\n>>>>>>>>>>>>>>>>>>>>>>>>>>>>>>>>>>>>\")\n",
        "# check model construction\n",
        "print(\"Model layer length: {}\".format(len(get_model.layers)))\n",
        "print(\">>>>>>>>>>>>>>>>>>>>>>>>>>>>>>>>>>>>\\n\")\n",
        "\n",
        "get_model.summary()"
      ],
      "execution_count": 0,
      "outputs": [
        {
          "output_type": "stream",
          "text": [
            "WARNING:tensorflow:No training configuration found in save file: the model was *not* compiled. Compile it manually.\n",
            "Start Load Model......\n",
            "Model Name: FaceID_C6_model.h5\n",
            "Path: /content/Model/FaceID_C6_model.h5\n",
            "\n",
            ">>>>>>>>>>>>>>>>>>>>>>>>>>>>>>>>>>>>\n",
            "Model layer length: 17\n",
            ">>>>>>>>>>>>>>>>>>>>>>>>>>>>>>>>>>>>\n",
            "\n",
            "_________________________________________________________________\n",
            "Layer (type)                 Output Shape              Param #   \n",
            "=================================================================\n",
            "conv2d_120 (Conv2D)          (None, 94, 94, 32)        896       \n",
            "_________________________________________________________________\n",
            "conv2d_121 (Conv2D)          (None, 92, 92, 32)        9248      \n",
            "_________________________________________________________________\n",
            "max_pooling2d_96 (MaxPooling (None, 46, 46, 32)        0         \n",
            "_________________________________________________________________\n",
            "dropout_120 (Dropout)        (None, 46, 46, 32)        0         \n",
            "_________________________________________________________________\n",
            "conv2d_122 (Conv2D)          (None, 44, 44, 64)        18496     \n",
            "_________________________________________________________________\n",
            "max_pooling2d_97 (MaxPooling (None, 22, 22, 64)        0         \n",
            "_________________________________________________________________\n",
            "dropout_121 (Dropout)        (None, 22, 22, 64)        0         \n",
            "_________________________________________________________________\n",
            "conv2d_123 (Conv2D)          (None, 20, 20, 128)       73856     \n",
            "_________________________________________________________________\n",
            "max_pooling2d_98 (MaxPooling (None, 10, 10, 128)       0         \n",
            "_________________________________________________________________\n",
            "dropout_122 (Dropout)        (None, 10, 10, 128)       0         \n",
            "_________________________________________________________________\n",
            "conv2d_124 (Conv2D)          (None, 8, 8, 256)         295168    \n",
            "_________________________________________________________________\n",
            "max_pooling2d_99 (MaxPooling (None, 4, 4, 256)         0         \n",
            "_________________________________________________________________\n",
            "dropout_123 (Dropout)        (None, 4, 4, 256)         0         \n",
            "_________________________________________________________________\n",
            "flatten_24 (Flatten)         (None, 4096)              0         \n",
            "_________________________________________________________________\n",
            "dense_48 (Dense)             (None, 1024)              4195328   \n",
            "_________________________________________________________________\n",
            "dropout_124 (Dropout)        (None, 1024)              0         \n",
            "_________________________________________________________________\n",
            "dense_49 (Dense)             (None, 6)                 6150      \n",
            "=================================================================\n",
            "Total params: 4,599,142\n",
            "Trainable params: 4,599,142\n",
            "Non-trainable params: 0\n",
            "_________________________________________________________________\n"
          ],
          "name": "stdout"
        }
      ]
    },
    {
      "metadata": {
        "id": "wqlXmxJsA_8Q",
        "colab_type": "text"
      },
      "cell_type": "markdown",
      "source": [
        "**10.2載入預測圖片與進行預測**"
      ]
    },
    {
      "metadata": {
        "id": "tD4JOzwnsp-C",
        "colab_type": "code",
        "outputId": "cbe1142d-8525-4122-f1c5-088f35f7e788",
        "colab": {
          "base_uri": "https://localhost:8080/",
          "height": 3716
        }
      },
      "cell_type": "code",
      "source": [
        "#--------------------------- load face image -----------------------\n",
        "correct_count = 0\n",
        "err_count = 0\n",
        "detail_log = \"\"\n",
        "temp_log = \"\"\n",
        "\n",
        "print('Start Load Face Image.\\n')\n",
        "\n",
        "temp_log='''\n",
        " --------------------------------------------------------------------------\n",
        "\n",
        "This is run keras model predict result log.\n",
        "The face class : [ {} ] and model use [ {} ].     \n",
        "\n",
        "--------------------------------------------------------------------------\n",
        " \\n\\n '''.format(face_class , h5_model_name)\n",
        "\n",
        "\n",
        "# 讀取指定的位置下目錄\n",
        "for dir_list in os.listdir(predict_faceimg_path):\n",
        "\n",
        "    load_start_time = time.time()\n",
        "      \n",
        "    # 產生絕對路徑，將當前指定位置與該位置下的目錄名稱串接一起\n",
        "    full_path = os.path.abspath(os.path.join(predict_faceimg_path+dir_list))\n",
        "        \n",
        "    #判斷絕對路徑是否為一個目錄資料夾\n",
        "    if os.path.isdir(full_path):\n",
        "            \n",
        "        # 讀取目錄資料夾內檔案\n",
        "        for dir_item in os.listdir(full_path):\n",
        "              \n",
        "            print('Load Face Image:  {} '.format(dir_item))\n",
        "                \n",
        "            # 產生絕對路徑 ，將目錄資料名稱與目錄資料夾內檔案串接一起\n",
        "            item_path = os.path.abspath(os.path.join(full_path+'/'+dir_item))\n",
        "                \n",
        "            #img = image.load_img(full_path)\n",
        "            img = cv2.imread(item_path) # 讀取圖片，使用OpenCV\n",
        "            img = cv2.resize(img,(img_resize,img_resize)) # 重新設置圖片大小\n",
        "            #print('Image size: {}'.format(img.size))\n",
        "                \n",
        "            # Image convert to array\n",
        "            img_array = image.img_to_array(img)\n",
        "            #print('Image shape: {}'.format(img_array.shape))\n",
        "                \n",
        "            # Image shape change dimensions ex: (640,480,3) --> (None,640,480,3)\n",
        "            img_array = np.expand_dims(img_array, axis=0)\n",
        "            #print('Image change dims shape: {}\\n'.format(img_array.shape))\n",
        "\n",
        "            img_array = img_array.astype('float32')\n",
        "            img_array /= 255\n",
        "                \n",
        "            #print(\">>>>>>>>>>>>>>>>>>>>>>>>>>>>>>>>>>>>>>>>>>>>>>>>>>>>>>>>>>>>>>>>>>>>>>>>>>\")\n",
        "                \n",
        "            # 執行模型預測\n",
        "            predict_result = get_model.predict(img_array,batch_size=batch_size,verbose=verbose)\n",
        "                \n",
        "            # 取得該圖片所屬的分類索引\n",
        "            faceindex = np.argmax(predict_result[0])\n",
        "            \n",
        "#             print(\"faceindex: {}\".format(faceindex))\n",
        "                \n",
        "            # SQL 語法\n",
        "            SQL_select_syntax = '''\n",
        "            SELECT {},{} FROM {} WHERE {} = '{}'\n",
        "            '''.format(column_faceindex,column_facename,db_TableName, column_faceindex, faceindex)\n",
        "                \n",
        "                \n",
        "            # 查詢SQLite內的分類索引\n",
        "            SQL_run = curs.execute(SQL_select_syntax)\n",
        "                 \n",
        "            # 取得SQL查詢結果\n",
        "            SQL_result = curs.fetchall()\n",
        "            \n",
        "            #判斷是否有查詢結果\n",
        "            if len(SQL_result) > 0:\n",
        "              \n",
        "                #開檔\n",
        "                filewrite = open(full_outputfile_path, 'w')\n",
        "#                 print('Face index select result of : {}'.format(SQL_result))\n",
        "                \n",
        "                load_end_time = '{:.2f}'.format((time.time() - load_start_time))\n",
        "                #print(\"Speed Time: {}s\".format(load_end_time))\n",
        "      \n",
        "                # 產生Log訊息\n",
        "                temp_log += \"\\n\"\n",
        "                temp_log += \" >>>>>>>>>>>>>>>>>>>>>>>>>>>>>>>>>>>>>>>>>>>>>>>>>>>>>>>>>>>>>>>>>>>>>>>>>>\\n\"\n",
        "                temp_log += \" Load Face Image:  {}\\n\".format(dir_item)\n",
        "                temp_log += \" Face Image Predict result of : {} ,[{}]\\n\".format(SQL_result[0][0],faceindex)\n",
        "                temp_log += \" Speed Time: {}s\\n\".format(load_end_time)\n",
        "                temp_log += \" >>>>>>>>>>>>>>>>>>>>>>>>>>>>>>>>>>>>>>>>>>>>>>>>>>>>>>>>>>>>>>>>>>>>>>>>>>\\n\"\n",
        "                \n",
        "                #temp_log = temp_log + '''\\n\n",
        "                #>>>>>>>>>>>>>>>>>>>>>>>>>>>>>>>>>>>>>>>>>>>>>>>>>>>>>>>>>>>>>>>>>>>>>>>>>>\\n\n",
        "                #\\n\n",
        "                #Load Face Image:  {}\\n\n",
        "                #Face Image Predict result of : {} ,[{}]\\n\n",
        "                #Speed Time: {}s\\n\n",
        "                #\\n\n",
        "                #>>>>>>>>>>>>>>>>>>>>>>>>>>>>>>>>>>>>>>>>>>>>>>>>>>>>>>>>>>>>>>>>>>>>>>>>>>\n",
        "                #\\n\\n\\n\n",
        "                #'''.format(dir_item,SQL_result,faceindex,load_end_time)\n",
        "\n",
        "                #print(type(SQL_result))\n",
        "#                 print(SQL_result)\n",
        "                print(\"預測所屬類別：[{}] , {}\".format(SQL_result[0][0],SQL_result[0][1]))\n",
        "                print(\"所屬類別: {}\".format(dir_list))\n",
        "                print(\"\\n\")\n",
        "                  \n",
        "                # 比對模型預測的結果是否正確\n",
        "                if dir_list != SQL_result[0][1]:\n",
        "                    \n",
        "                    err_count +=1 # 累加錯誤預測次數\n",
        "                        \n",
        "                    # 產生Log訊息\n",
        "                    detail_log += \"\\t\\t>>>>>>>>>>>>>>>>>>>>>>>>>>>>>>>>>>>>>>>>>>>>>>>>>>>>>>>>>>>>>>\\n\"\n",
        "                    detail_log += ''' \\t\\t\"{}\" Predict ----> {} (X)\\n'''.format(dir_item,SQL_result[0][1])\n",
        "                    detail_log += \"\\t\\t>>>>>>>>>>>>>>>>>>>>>>>>>>>>>>>>>>>>>>>>>>>>>>>>>>>>>>>>>>>>>>\\n\\n\" \n",
        "                    \n",
        "                else:\n",
        "                      \n",
        "                    correct_count +=1 # 累加正確預測次數\n",
        "                        \n",
        "                    # 產生Log訊息\n",
        "                    detail_log += ''' \\t\\t\"{}\"  Predict ----> {} (O)\\n\\n'''.format(dir_item,SQL_result[0][1])\n",
        "                    \n",
        "                    \n",
        "            else:\n",
        "\n",
        "                 print ('Run SQL Error')\n",
        "\n",
        "                 #print(\">>>>>>>>>>>>>>>>>>>>>>>>>>>>>>>>>>>>>>>>>>>>>>>>>>>>>>>>>>>>>>>>>>>>>>>>>>\\n\")\n",
        "                  \n",
        "                  \n",
        "end_time = '{:.2f}'.format((time.time() - start_time))\n",
        "        \n",
        "# 產生Log訊息\n",
        "temp_log = temp_log +'''\\n\\nFull Speed Time: {}s\\n\\n'''.format(end_time)\n",
        "      \n",
        "# 產生Log訊息\n",
        "detail_log +='''\n",
        "\\t\\t\\t-------------------------------\n",
        "\\t\\t\\tPredict Correct count:  {}\n",
        "\\t\\t\\tPredict Error   count:  {} \n",
        "\\t\\t\\t-------------------------------\n",
        "'''.format(correct_count,err_count)\n",
        "      \n",
        "print(\"\\n <<------------------------------------ 預測結果 ------------------------------------>>\\n{}\".format(detail_log))\n",
        "# print(detail_log)\n",
        "    \n",
        "# 寫檔\n",
        "filewrite.write(temp_log + detail_log)\n",
        "# 關檔\n",
        "filewrite.close()\n",
        "\n",
        "print(\"\\t\\t\\tFull Speed Time: {}s\".format(end_time))\n",
        "\n",
        "#-------------------------------------------------------------------\n",
        "\n",
        "\n"
      ],
      "execution_count": 0,
      "outputs": [
        {
          "output_type": "stream",
          "text": [
            "Start Load Face Image.\n",
            "\n",
            "Load Face Image:  Jean Reno_02.jpg \n",
            "1/1 [==============================] - 21s 21s/step\n",
            "預測所屬類別：[0] , Jean Reno\n",
            "所屬類別: Jean Reno\n",
            "\n",
            "\n",
            "Load Face Image:  Jean Reno_01.jpg \n",
            "1/1 [==============================] - 0s 16ms/step\n",
            "預測所屬類別：[0] , Jean Reno\n",
            "所屬類別: Jean Reno\n",
            "\n",
            "\n",
            "Load Face Image:  Jean Reno_04.jpg \n",
            "1/1 [==============================] - 0s 17ms/step\n",
            "預測所屬類別：[0] , Jean Reno\n",
            "所屬類別: Jean Reno\n",
            "\n",
            "\n",
            "Load Face Image:  Jean Reno_03.jpg \n",
            "1/1 [==============================] - 0s 16ms/step\n",
            "預測所屬類別：[0] , Jean Reno\n",
            "所屬類別: Jean Reno\n",
            "\n",
            "\n",
            "Load Face Image:  Ben Stiller_03.jpg \n",
            "1/1 [==============================] - 0s 17ms/step\n",
            "預測所屬類別：[2] , Ben Stiller\n",
            "所屬類別: Ben Stiller\n",
            "\n",
            "\n",
            "Load Face Image:  Ben Stiller_02.jpg \n",
            "1/1 [==============================] - 0s 16ms/step\n",
            "預測所屬類別：[2] , Ben Stiller\n",
            "所屬類別: Ben Stiller\n",
            "\n",
            "\n",
            "Load Face Image:  Ben Stiller_01.jpg \n",
            "1/1 [==============================] - 0s 16ms/step\n",
            "預測所屬類別：[2] , Ben Stiller\n",
            "所屬類別: Ben Stiller\n",
            "\n",
            "\n",
            "Load Face Image:  Ben Stiller_04.jpg \n",
            "1/1 [==============================] - 0s 15ms/step\n",
            "預測所屬類別：[2] , Ben Stiller\n",
            "所屬類別: Ben Stiller\n",
            "\n",
            "\n",
            "Load Face Image:  Adam Sandler_01.jpg \n",
            "1/1 [==============================] - 0s 16ms/step\n",
            "預測所屬類別：[3] , Adam Sandler\n",
            "所屬類別: Adam Sandler\n",
            "\n",
            "\n",
            "Load Face Image:  Adam Sandler_03.jpg \n",
            "1/1 [==============================] - 0s 15ms/step\n",
            "預測所屬類別：[3] , Adam Sandler\n",
            "所屬類別: Adam Sandler\n",
            "\n",
            "\n",
            "Load Face Image:  Adam Sandler_02.jpg \n",
            "1/1 [==============================] - 0s 15ms/step\n",
            "預測所屬類別：[3] , Adam Sandler\n",
            "所屬類別: Adam Sandler\n",
            "\n",
            "\n",
            "Load Face Image:  Adam Sandler_04.jpg \n",
            "1/1 [==============================] - 0s 17ms/step\n",
            "預測所屬類別：[3] , Adam Sandler\n",
            "所屬類別: Adam Sandler\n",
            "\n",
            "\n",
            "Load Face Image:  Aaron Judge_02.jpg \n",
            "1/1 [==============================] - 0s 16ms/step\n",
            "預測所屬類別：[4] , Aaron Judge\n",
            "所屬類別: Aaron Judge\n",
            "\n",
            "\n",
            "Load Face Image:  Aaron Judge_04.jpg \n",
            "1/1 [==============================] - 0s 15ms/step\n",
            "預測所屬類別：[3] , Adam Sandler\n",
            "所屬類別: Aaron Judge\n",
            "\n",
            "\n",
            "Load Face Image:  Aaron Judge_01.jpg \n",
            "1/1 [==============================] - 0s 14ms/step\n",
            "預測所屬類別：[4] , Aaron Judge\n",
            "所屬類別: Aaron Judge\n",
            "\n",
            "\n",
            "Load Face Image:  Aaron Judge_03.jpg \n",
            "1/1 [==============================] - 0s 14ms/step\n",
            "預測所屬類別：[4] , Aaron Judge\n",
            "所屬類別: Aaron Judge\n",
            "\n",
            "\n",
            "Load Face Image:  Ice Cube_04.jpg \n",
            "1/1 [==============================] - 0s 15ms/step\n",
            "預測所屬類別：[5] , Ice Cube\n",
            "所屬類別: Ice Cube\n",
            "\n",
            "\n",
            "Load Face Image:  Ice Cube_01.jpg \n",
            "1/1 [==============================] - 0s 14ms/step\n",
            "預測所屬類別：[3] , Adam Sandler\n",
            "所屬類別: Ice Cube\n",
            "\n",
            "\n",
            "Load Face Image:  Ice Cube_02.jpg \n",
            "1/1 [==============================] - 0s 15ms/step\n",
            "預測所屬類別：[5] , Ice Cube\n",
            "所屬類別: Ice Cube\n",
            "\n",
            "\n",
            "Load Face Image:  Ice Cube_03.jpg \n",
            "1/1 [==============================] - 0s 15ms/step\n",
            "預測所屬類別：[4] , Aaron Judge\n",
            "所屬類別: Ice Cube\n",
            "\n",
            "\n",
            "Load Face Image:  Emily Watson_01.jpg \n",
            "1/1 [==============================] - 0s 16ms/step\n",
            "預測所屬類別：[1] , Emily Watson\n",
            "所屬類別: Emily Watson\n",
            "\n",
            "\n",
            "Load Face Image:  Emily Watson_02.jpg \n",
            "1/1 [==============================] - 0s 16ms/step\n",
            "預測所屬類別：[4] , Aaron Judge\n",
            "所屬類別: Emily Watson\n",
            "\n",
            "\n",
            "Load Face Image:  Emily Watson_03.jpg \n",
            "1/1 [==============================] - 0s 16ms/step\n",
            "預測所屬類別：[1] , Emily Watson\n",
            "所屬類別: Emily Watson\n",
            "\n",
            "\n",
            "Load Face Image:  Emily Watson_04.jpg \n",
            "1/1 [==============================] - 0s 16ms/step\n",
            "預測所屬類別：[2] , Ben Stiller\n",
            "所屬類別: Emily Watson\n",
            "\n",
            "\n",
            "\n",
            " <<------------------------------------ 預測結果 ------------------------------------>>\n",
            " \t\t\"Jean Reno_02.jpg\"  Predict ----> Jean Reno (O)\n",
            "\n",
            " \t\t\"Jean Reno_01.jpg\"  Predict ----> Jean Reno (O)\n",
            "\n",
            " \t\t\"Jean Reno_04.jpg\"  Predict ----> Jean Reno (O)\n",
            "\n",
            " \t\t\"Jean Reno_03.jpg\"  Predict ----> Jean Reno (O)\n",
            "\n",
            " \t\t\"Ben Stiller_03.jpg\"  Predict ----> Ben Stiller (O)\n",
            "\n",
            " \t\t\"Ben Stiller_02.jpg\"  Predict ----> Ben Stiller (O)\n",
            "\n",
            " \t\t\"Ben Stiller_01.jpg\"  Predict ----> Ben Stiller (O)\n",
            "\n",
            " \t\t\"Ben Stiller_04.jpg\"  Predict ----> Ben Stiller (O)\n",
            "\n",
            " \t\t\"Adam Sandler_01.jpg\"  Predict ----> Adam Sandler (O)\n",
            "\n",
            " \t\t\"Adam Sandler_03.jpg\"  Predict ----> Adam Sandler (O)\n",
            "\n",
            " \t\t\"Adam Sandler_02.jpg\"  Predict ----> Adam Sandler (O)\n",
            "\n",
            " \t\t\"Adam Sandler_04.jpg\"  Predict ----> Adam Sandler (O)\n",
            "\n",
            " \t\t\"Aaron Judge_02.jpg\"  Predict ----> Aaron Judge (O)\n",
            "\n",
            "\t\t>>>>>>>>>>>>>>>>>>>>>>>>>>>>>>>>>>>>>>>>>>>>>>>>>>>>>>>>>>>>>>\n",
            " \t\t\"Aaron Judge_04.jpg\" Predict ----> Adam Sandler (X)\n",
            "\t\t>>>>>>>>>>>>>>>>>>>>>>>>>>>>>>>>>>>>>>>>>>>>>>>>>>>>>>>>>>>>>>\n",
            "\n",
            " \t\t\"Aaron Judge_01.jpg\"  Predict ----> Aaron Judge (O)\n",
            "\n",
            " \t\t\"Aaron Judge_03.jpg\"  Predict ----> Aaron Judge (O)\n",
            "\n",
            " \t\t\"Ice Cube_04.jpg\"  Predict ----> Ice Cube (O)\n",
            "\n",
            "\t\t>>>>>>>>>>>>>>>>>>>>>>>>>>>>>>>>>>>>>>>>>>>>>>>>>>>>>>>>>>>>>>\n",
            " \t\t\"Ice Cube_01.jpg\" Predict ----> Adam Sandler (X)\n",
            "\t\t>>>>>>>>>>>>>>>>>>>>>>>>>>>>>>>>>>>>>>>>>>>>>>>>>>>>>>>>>>>>>>\n",
            "\n",
            " \t\t\"Ice Cube_02.jpg\"  Predict ----> Ice Cube (O)\n",
            "\n",
            "\t\t>>>>>>>>>>>>>>>>>>>>>>>>>>>>>>>>>>>>>>>>>>>>>>>>>>>>>>>>>>>>>>\n",
            " \t\t\"Ice Cube_03.jpg\" Predict ----> Aaron Judge (X)\n",
            "\t\t>>>>>>>>>>>>>>>>>>>>>>>>>>>>>>>>>>>>>>>>>>>>>>>>>>>>>>>>>>>>>>\n",
            "\n",
            " \t\t\"Emily Watson_01.jpg\"  Predict ----> Emily Watson (O)\n",
            "\n",
            "\t\t>>>>>>>>>>>>>>>>>>>>>>>>>>>>>>>>>>>>>>>>>>>>>>>>>>>>>>>>>>>>>>\n",
            " \t\t\"Emily Watson_02.jpg\" Predict ----> Aaron Judge (X)\n",
            "\t\t>>>>>>>>>>>>>>>>>>>>>>>>>>>>>>>>>>>>>>>>>>>>>>>>>>>>>>>>>>>>>>\n",
            "\n",
            " \t\t\"Emily Watson_03.jpg\"  Predict ----> Emily Watson (O)\n",
            "\n",
            "\t\t>>>>>>>>>>>>>>>>>>>>>>>>>>>>>>>>>>>>>>>>>>>>>>>>>>>>>>>>>>>>>>\n",
            " \t\t\"Emily Watson_04.jpg\" Predict ----> Ben Stiller (X)\n",
            "\t\t>>>>>>>>>>>>>>>>>>>>>>>>>>>>>>>>>>>>>>>>>>>>>>>>>>>>>>>>>>>>>>\n",
            "\n",
            "\n",
            "\t\t\t-------------------------------\n",
            "\t\t\tPredict Correct count:  19\n",
            "\t\t\tPredict Error   count:  5 \n",
            "\t\t\t-------------------------------\n",
            "\n",
            "\t\t\tFull Speed Time: 67.91s\n"
          ],
          "name": "stdout"
        }
      ]
    }
  ]
}